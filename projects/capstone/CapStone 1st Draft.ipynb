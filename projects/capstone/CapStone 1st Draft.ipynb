{
 "cells": [
  {
   "cell_type": "markdown",
   "metadata": {},
   "source": [
    "# CAPSTONE PROJECT INTRO:"
   ]
  },
  {
   "cell_type": "markdown",
   "metadata": {},
   "source": [
    "## Kaggle Nature Conservancy Challenge:"
   ]
  },
  {
   "cell_type": "raw",
   "metadata": {},
   "source": [
    "I might be a little crazy to even think about attempting this challenge and despite the warning, I really am tempted to give it a shot even if it is at minuscule level\n",
    "\n",
    "I was really stoked after sitting through Vanessa's presentation and had an idea to do a similar project to identify coral species. My background being Marine Biology, I wanted to combing something from the past and my genuine interest with this course. If made possible it could have serious conservation implication from eco-tourisim to the aquarium trade. \n",
    "\n",
    "A few days after my realization, I was on kagal exploring the available data sets and came across this challenge. \n",
    "\n",
    "Side story: I came very close to applying for the fish observer position that they are trying to replace with machine learning. Also my roommate in college is currently working on one of these fishing vessels, so I was just drawn to this. I don't know how plausible it is given the time limit and my skill level but I am really open to the challenge!\n"
   ]
  },
  {
   "cell_type": "markdown",
   "metadata": {},
   "source": [
    "## Climate Change and its Impact on Wild life:"
   ]
  },
  {
   "cell_type": "raw",
   "metadata": {},
   "source": [
    "Another interesting data set that I came across on Kagal was of climate change in the continental US from 1850 to 2013. I would like to compare this data set with the data set that is available on The International Council for the Exploration of the Sea (ICES). They have a variety of datasets with different variables that help measure biodiversity. One of the ones that I am really interested in is the fish larvae and egg records with data of some species dating as far as 1850s. The site also contains data on plankton diversity dating back to early 1900. Along with temperature I also want to use greenhouse gas as a predictors. \n",
    "\n",
    "Using these predictors I want to see if there are patterns or shifts in the variables. W"
   ]
  }
 ],
 "metadata": {
  "anaconda-cloud": {},
  "kernelspec": {
   "display_name": "Python [conda env:dsi]",
   "language": "python",
   "name": "conda-env-dsi-py"
  },
  "language_info": {
   "codemirror_mode": {
    "name": "ipython",
    "version": 2
   },
   "file_extension": ".py",
   "mimetype": "text/x-python",
   "name": "python",
   "nbconvert_exporter": "python",
   "pygments_lexer": "ipython2",
   "version": "2.7.12"
  }
 },
 "nbformat": 4,
 "nbformat_minor": 1
}
