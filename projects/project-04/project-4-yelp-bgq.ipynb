{
 "cells": [
  {
   "cell_type": "markdown",
   "metadata": {},
   "source": [
    "<img src=\"http://imgur.com/1ZcRyrc.png\" style=\"float: left; margin: 15px; height: 80px\">\n",
    "\n",
    "# Project 4\n",
    "\n",
    "###  Big Query, SQL, Classification\n",
    "\n",
    "---\n",
    "\n",
    "### The Data\n",
    "\n",
    "There are 5 individual tables that have the information, contained in a Google BigQuery database.  The setup info for BigQuery is located on our DSI wiki.  You will have to query with SQL, the dataset in order to complete this project.\n",
    "\n",
    "The tables, with cooresonding attributes that exist are:\n",
    "\n",
    "### businesses\n",
    "- business_id: unique business identifier\n",
    "- name: name of the business\n",
    "- review_count: number of reviews per business\n",
    "- city: city business resides in\n",
    "- stars: average rating\n",
    "- categories: categories the business falls into (can be one or multiple)\n",
    "- latitude\n",
    "- longitude\n",
    "- neighborhoods: neighborhoods business belongs to\n",
    "- variable: \"property\" of the business (a tag)\n",
    "- value: True/False for the property\n",
    "\n",
    "### reviews\n",
    "- user_id: unique user identifier\n",
    "- review_id: unique review identifier\n",
    "- votes.cool: how many thought the review was \"cool\"\n",
    "- business_id: unique business id the review is for\n",
    "- votes.funny: how many thought the review was funny\n",
    "- stars: rating given\n",
    "- date: date of review\n",
    "- votes.useful: how many thought the review was useful\n",
    "- ... 100 columns of counts of most common 2 word phrases that appear in reviews in this review\n",
    "\n",
    "### users\n",
    "- yelping_since: signup date\n",
    "- compliments.plain: # of compliments \"plain\"\n",
    "- review_count: # of reviews:\n",
    "- compliments.cute: total # of compliments \"cute\"\n",
    "- compliments.writer: # of compliments \"writer\"\n",
    "- compliments.note: # of compliments \"note\" (not sure what this is)\n",
    "- compliments.hot: # of compliments \"hot\" (?)\n",
    "- compliments.cool: # of compliments \"cool\"\n",
    "- compliments.profile: # of compliments \"profile\"\n",
    "- average_stars: average rating\n",
    "- compliments.more: # of compliments \"more\"\n",
    "- elite: years considered \"elite\"\n",
    "- name: user's name\n",
    "- user_id: unique user id\n",
    "- votes.cool: # of votes \"cool\"\n",
    "- compliments.list: # of compliments \"list\"\n",
    "- votes.funny: # of compliments \"funny\"\n",
    "- compliments.photos: # of compliments \"photos\"\n",
    "- compliments.funny: # of compliments \"funny\"\n",
    "- votes.useful: # of votes \"useful\"\n",
    "\n",
    "### checkins\n",
    "- business_id: unique business identifier\n",
    "- variable: day-time identifier of checkins (0-0 is Sunday 0:00 - 1:00am,  for example)\n",
    "- value: # of checkins at that time\n",
    "\n",
    "### tips\n",
    "- user_id: unique user identifier\n",
    "- business_id: unique business identifier\n",
    "- likes: likes that the tip has\n",
    "- date: date of tip\n",
    "- ... 100 columns of counts of most common 2 word phrases that appear in tips in this tip\n",
    "\n",
    "\n",
    "The reviews and tips datasets in particular have parsed \"NLP\" columns with counts of 2-word phrases in that review or tip (a \"tip\", it seems, is some kind of smaller review).\n",
    "\n",
    "The user dataset has a lot of columns of counts of different compliments and votes. We're not sure whether the compliments or votes are by the user or for the user.\n",
    "\n",
    "Full details about this dataset area located here:\n",
    "https://bigquery.cloud.google.com/dataset/bigquery-dsi-dave:yelp_arizona\n",
    "\n",
    "---\n",
    "\n",
    "\n",
    "If you look at the website, or the full data, you'll see I have removed pieces of the data and cut it down quite a bit. This is to simplify it for this project. Specifically, business are limited to be in these cities:\n",
    "\n",
    "- Phoenix\n",
    "- Surprise\n",
    "- Las Vegas\n",
    "- Waterloo\n",
    "\n",
    "Apparently there is a city called \"Surprise\" in Arizona. \n",
    "\n",
    "Businesses are also restricted to at least be in one of the following categories, because we thought the mix of them was funny:\n",
    "\n",
    "- Airports\n",
    "- Breakfast & Brunch\n",
    "- Bubble Tea\n",
    "- Burgers\n",
    "- Bars\n",
    "- Bakeries\n",
    "- Breweries\n",
    "- Cafes\n",
    "- Candy Stores\n",
    "- Comedy Clubs\n",
    "- Courthouses\n",
    "- Dance Clubs\n",
    "- Fast Food\n",
    "- Museums\n",
    "- Tattoo\n",
    "- Vape Shops\n",
    "- Yoga\n",
    "    \n",
    "---\n",
    "\n",
    "### Project requirements\n",
    "\n",
    "**You will be performing 4 different sections of analysis, like in the last project.**\n",
    "\n",
    "Remember that classification targets are categorical and regression targets are continuous variables."
   ]
  },
  {
   "cell_type": "markdown",
   "metadata": {},
   "source": [
    "<img src=\"http://imgur.com/l5NasQj.png\" style=\"float: left; margin: 25px 15px 0px 0px; height: 25px\">\n",
    "\n",
    "## 1. Load your dataset(s) / setup / configure GBQ connection\n",
    "\n",
    "---\n",
    "\n",
    "Information about this dataset is located here:\n",
    "\n",
    "\n",
    "**If you haven't done so, setup a project with the Google developer portal, following the directions here: [Getting Started with BigQuery](https://github.com/ga-students/DSI-SF-4/wiki/Getting-Started-with-BigQuery)**"
   ]
  },
  {
   "cell_type": "code",
   "execution_count": 237,
   "metadata": {
    "collapsed": false,
    "scrolled": true
   },
   "outputs": [],
   "source": [
    "import pandas as pd\n",
    "import seaborn as sns\n",
    "import sqlite3\n",
    "\n",
    "import matplotlib.pyplot as plt\n",
    "import seaborn as sns\n",
    "import numpy as np\n",
    "\n",
    "import patsy\n",
    "\n",
    "from sklearn.linear_model import LogisticRegression\n",
    "from sklearn.neighbors import KNeighborsClassifier\n",
    "from sklearn.cross_validation import cross_val_score, StratifiedKFold\n",
    "from sklearn.grid_search import GridSearchCV\n",
    "from sklearn.linear_model import ElasticNetCV\n",
    "from sklearn.preprocessing import StandardScaler\n",
    "from sklearn.metrics import roc_curve, roc_auc_score, auc\n",
    "\n",
    "%matplotlib inline\n",
    "\n",
    "\n"
   ]
  },
  {
   "cell_type": "code",
   "execution_count": 2,
   "metadata": {
    "collapsed": true
   },
   "outputs": [],
   "source": [
    "# project_id = \"bigquery-dsi-rashim\"\n",
    "\n",
    "# sql = \"\"\"\n",
    "# SELECT * FROM [bigquery-dsi-dave:yelp_arizona.reviews] \n",
    "# \"\"\"\n",
    "\n",
    "# reviews = pd.read_gbq(sql, project_id=project_id)\n",
    "\n",
    "# reviews = pd.open_csv(\"../../project-04/reviews.csv\")"
   ]
  },
  {
   "cell_type": "code",
   "execution_count": 3,
   "metadata": {
    "collapsed": true
   },
   "outputs": [],
   "source": [
    "# project_id = \"bigquery-dsi-rashim\"\n",
    "\n",
    "# sql = \"\"\"\n",
    "# SELECT * FROM [bigquery-dsi-dave:yelp_arizona.business] \n",
    "# \"\"\"\n",
    "\n",
    "# business = pd.read_gbq(sql, project_id=project_id)\n",
    "#  business = pd.open_csv(\"../../project-04/business.csv\")"
   ]
  },
  {
   "cell_type": "code",
   "execution_count": 4,
   "metadata": {
    "collapsed": true
   },
   "outputs": [],
   "source": [
    "# project_id = \"bigquery-dsi-rashim\"\n",
    "\n",
    "# sql = \"\"\"\n",
    "# SELECT * FROM [bigquery-dsi-dave:yelp_arizona.users] \n",
    "# \"\"\"\n",
    "\n",
    "# users = pd.read_gbq(sql, project_id=project_id)\n",
    "\n",
    "# users = pd.open_csv(\"../../project-04/users.csv\")"
   ]
  },
  {
   "cell_type": "markdown",
   "metadata": {},
   "source": [
    "<img src=\"http://imgur.com/l5NasQj.png\" style=\"float: left; margin: 25px 15px 0px 0px; height: 25px\">\n",
    "\n",
    "## 2. Constructing a \"profile\" for Las Vegas\n",
    "\n",
    "---\n",
    "\n",
    "Yelp is interested in building out what they are calling \"profiles\" for cities. They want you to start with just Las Vegas to see what a prototype of this would look like. Essentially, they want to know what makes Las Vegas distinct from the other four.\n",
    "\n",
    "Use the data you have to predict Las Vegas from the other variables you have. You should not be predicting the city from any kind of location data or other data perfectly associated with that city (or another city).\n",
    "\n",
    "You may use any classification algorithm you deem appropriate, or even multiple models. You should:\n",
    "\n",
    "1. Build at least one model predicting Las Vegas vs. the other cities.\n",
    "- Validate your model(s).\n",
    "- Interpret and visualize, in some way, the results.\n",
    "- Write up a \"profile\" for Las Vegas. This should be a writeup converting your findings from the model(s) into a human-readable description of the city.\n",
    "\n",
    "*Research location data to find the city targets.*"
   ]
  },
  {
   "cell_type": "code",
   "execution_count": null,
   "metadata": {
    "collapsed": true
   },
   "outputs": [],
   "source": [
    "--> "
   ]
  },
  {
   "cell_type": "code",
   "execution_count": 5,
   "metadata": {
    "collapsed": false,
    "scrolled": true
   },
   "outputs": [],
   "source": [
    "business= pd.read_csv(\"../../project-04/businesses_changed.csv\")"
   ]
  },
  {
   "cell_type": "code",
   "execution_count": 6,
   "metadata": {
    "collapsed": false
   },
   "outputs": [
    {
     "name": "stdout",
     "output_type": "stream",
     "text": [
      "Unnamed: 0\n",
      "business_id\n",
      "name\n",
      "review_count\n",
      "city\n",
      "stars\n",
      "categories\n",
      "latitude\n",
      "longitude\n",
      "neighborhoods\n",
      "variable\n",
      "value\n"
     ]
    }
   ],
   "source": [
    "for i in business.columns:\n",
    "    print i    "
   ]
  },
  {
   "cell_type": "code",
   "execution_count": 7,
   "metadata": {
    "collapsed": true
   },
   "outputs": [],
   "source": [
    "cols = ['business_id', 'review_count', 'city', 'stars', 'categories']"
   ]
  },
  {
   "cell_type": "code",
   "execution_count": 8,
   "metadata": {
    "collapsed": false
   },
   "outputs": [],
   "source": [
    "business = pd.pivot_table(business, values='value', columns='variable', index=cols).reset_index()"
   ]
  },
  {
   "cell_type": "code",
   "execution_count": 9,
   "metadata": {
    "collapsed": false
   },
   "outputs": [
    {
     "data": {
      "text/html": [
       "<div>\n",
       "<table border=\"1\" class=\"dataframe\">\n",
       "  <thead>\n",
       "    <tr style=\"text-align: right;\">\n",
       "      <th>variable</th>\n",
       "      <th>business_id</th>\n",
       "      <th>review_count</th>\n",
       "      <th>city</th>\n",
       "      <th>stars</th>\n",
       "      <th>categories</th>\n",
       "      <th>attributes.Accepts Credit Cards</th>\n",
       "      <th>attributes.Accepts Insurance</th>\n",
       "      <th>attributes.Ages Allowed</th>\n",
       "      <th>attributes.Alcohol</th>\n",
       "      <th>attributes.Ambience.casual</th>\n",
       "      <th>...</th>\n",
       "      <th>hours.Saturday.open</th>\n",
       "      <th>hours.Sunday.close</th>\n",
       "      <th>hours.Sunday.open</th>\n",
       "      <th>hours.Thursday.close</th>\n",
       "      <th>hours.Thursday.open</th>\n",
       "      <th>hours.Tuesday.close</th>\n",
       "      <th>hours.Tuesday.open</th>\n",
       "      <th>hours.Wednesday.close</th>\n",
       "      <th>hours.Wednesday.open</th>\n",
       "      <th>open</th>\n",
       "    </tr>\n",
       "  </thead>\n",
       "  <tbody>\n",
       "    <tr>\n",
       "      <th>0</th>\n",
       "      <td>--jFTZmywe7StuZ2hEjxyA</td>\n",
       "      <td>7</td>\n",
       "      <td>Las Vegas</td>\n",
       "      <td>3.5</td>\n",
       "      <td>['Fast Food', 'Sandwiches', 'Restaurants']</td>\n",
       "      <td>True</td>\n",
       "      <td>None</td>\n",
       "      <td>None</td>\n",
       "      <td>False</td>\n",
       "      <td>None</td>\n",
       "      <td>...</td>\n",
       "      <td>None</td>\n",
       "      <td>None</td>\n",
       "      <td>None</td>\n",
       "      <td>None</td>\n",
       "      <td>None</td>\n",
       "      <td>None</td>\n",
       "      <td>None</td>\n",
       "      <td>None</td>\n",
       "      <td>None</td>\n",
       "      <td>True</td>\n",
       "    </tr>\n",
       "    <tr>\n",
       "      <th>1</th>\n",
       "      <td>-0HGqwlfw3I8nkJyMHxAsQ</td>\n",
       "      <td>9</td>\n",
       "      <td>Phoenix</td>\n",
       "      <td>3.0</td>\n",
       "      <td>['Burgers', 'Fast Food', 'Restaurants']</td>\n",
       "      <td>True</td>\n",
       "      <td>None</td>\n",
       "      <td>None</td>\n",
       "      <td>False</td>\n",
       "      <td>None</td>\n",
       "      <td>...</td>\n",
       "      <td>None</td>\n",
       "      <td>None</td>\n",
       "      <td>None</td>\n",
       "      <td>None</td>\n",
       "      <td>None</td>\n",
       "      <td>None</td>\n",
       "      <td>None</td>\n",
       "      <td>None</td>\n",
       "      <td>None</td>\n",
       "      <td>True</td>\n",
       "    </tr>\n",
       "    <tr>\n",
       "      <th>2</th>\n",
       "      <td>-0VK5Z1BfUHUYq4PoBYNLw</td>\n",
       "      <td>5</td>\n",
       "      <td>Las Vegas</td>\n",
       "      <td>3.5</td>\n",
       "      <td>['Bars', 'Nightlife', 'Lounges']</td>\n",
       "      <td>True</td>\n",
       "      <td>None</td>\n",
       "      <td>None</td>\n",
       "      <td>False</td>\n",
       "      <td>True</td>\n",
       "      <td>...</td>\n",
       "      <td>None</td>\n",
       "      <td>None</td>\n",
       "      <td>None</td>\n",
       "      <td>None</td>\n",
       "      <td>None</td>\n",
       "      <td>None</td>\n",
       "      <td>None</td>\n",
       "      <td>None</td>\n",
       "      <td>None</td>\n",
       "      <td>True</td>\n",
       "    </tr>\n",
       "    <tr>\n",
       "      <th>3</th>\n",
       "      <td>-0bUDim5OGuv8R0Qqq6J4A</td>\n",
       "      <td>8</td>\n",
       "      <td>Phoenix</td>\n",
       "      <td>2.0</td>\n",
       "      <td>['Bakeries', 'Food', 'Breakfast &amp; Brunch', 'Re...</td>\n",
       "      <td>True</td>\n",
       "      <td>None</td>\n",
       "      <td>None</td>\n",
       "      <td>None</td>\n",
       "      <td>None</td>\n",
       "      <td>...</td>\n",
       "      <td>None</td>\n",
       "      <td>None</td>\n",
       "      <td>None</td>\n",
       "      <td>None</td>\n",
       "      <td>None</td>\n",
       "      <td>None</td>\n",
       "      <td>None</td>\n",
       "      <td>None</td>\n",
       "      <td>None</td>\n",
       "      <td>False</td>\n",
       "    </tr>\n",
       "    <tr>\n",
       "      <th>4</th>\n",
       "      <td>-1bOb2izeJBZjHC7NWxiPA</td>\n",
       "      <td>120</td>\n",
       "      <td>Phoenix</td>\n",
       "      <td>4.0</td>\n",
       "      <td>['Breakfast &amp; Brunch', 'Cafes', 'American (Tra...</td>\n",
       "      <td>True</td>\n",
       "      <td>None</td>\n",
       "      <td>None</td>\n",
       "      <td>False</td>\n",
       "      <td>True</td>\n",
       "      <td>...</td>\n",
       "      <td>False</td>\n",
       "      <td>False</td>\n",
       "      <td>False</td>\n",
       "      <td>False</td>\n",
       "      <td>False</td>\n",
       "      <td>False</td>\n",
       "      <td>False</td>\n",
       "      <td>False</td>\n",
       "      <td>False</td>\n",
       "      <td>True</td>\n",
       "    </tr>\n",
       "  </tbody>\n",
       "</table>\n",
       "<p>5 rows × 83 columns</p>\n",
       "</div>"
      ],
      "text/plain": [
       "variable             business_id  review_count       city  stars  \\\n",
       "0         --jFTZmywe7StuZ2hEjxyA             7  Las Vegas    3.5   \n",
       "1         -0HGqwlfw3I8nkJyMHxAsQ             9    Phoenix    3.0   \n",
       "2         -0VK5Z1BfUHUYq4PoBYNLw             5  Las Vegas    3.5   \n",
       "3         -0bUDim5OGuv8R0Qqq6J4A             8    Phoenix    2.0   \n",
       "4         -1bOb2izeJBZjHC7NWxiPA           120    Phoenix    4.0   \n",
       "\n",
       "variable                                         categories  \\\n",
       "0                ['Fast Food', 'Sandwiches', 'Restaurants']   \n",
       "1                   ['Burgers', 'Fast Food', 'Restaurants']   \n",
       "2                          ['Bars', 'Nightlife', 'Lounges']   \n",
       "3         ['Bakeries', 'Food', 'Breakfast & Brunch', 'Re...   \n",
       "4         ['Breakfast & Brunch', 'Cafes', 'American (Tra...   \n",
       "\n",
       "variable attributes.Accepts Credit Cards attributes.Accepts Insurance  \\\n",
       "0                                   True                         None   \n",
       "1                                   True                         None   \n",
       "2                                   True                         None   \n",
       "3                                   True                         None   \n",
       "4                                   True                         None   \n",
       "\n",
       "variable attributes.Ages Allowed attributes.Alcohol  \\\n",
       "0                           None              False   \n",
       "1                           None              False   \n",
       "2                           None              False   \n",
       "3                           None               None   \n",
       "4                           None              False   \n",
       "\n",
       "variable attributes.Ambience.casual  ...   hours.Saturday.open  \\\n",
       "0                              None  ...                  None   \n",
       "1                              None  ...                  None   \n",
       "2                              True  ...                  None   \n",
       "3                              None  ...                  None   \n",
       "4                              True  ...                 False   \n",
       "\n",
       "variable hours.Sunday.close hours.Sunday.open hours.Thursday.close  \\\n",
       "0                      None              None                 None   \n",
       "1                      None              None                 None   \n",
       "2                      None              None                 None   \n",
       "3                      None              None                 None   \n",
       "4                     False             False                False   \n",
       "\n",
       "variable hours.Thursday.open hours.Tuesday.close hours.Tuesday.open  \\\n",
       "0                       None                None               None   \n",
       "1                       None                None               None   \n",
       "2                       None                None               None   \n",
       "3                       None                None               None   \n",
       "4                      False               False              False   \n",
       "\n",
       "variable hours.Wednesday.close hours.Wednesday.open   open  \n",
       "0                         None                 None   True  \n",
       "1                         None                 None   True  \n",
       "2                         None                 None   True  \n",
       "3                         None                 None  False  \n",
       "4                        False                False   True  \n",
       "\n",
       "[5 rows x 83 columns]"
      ]
     },
     "execution_count": 9,
     "metadata": {},
     "output_type": "execute_result"
    }
   ],
   "source": [
    "business.head()"
   ]
  },
  {
   "cell_type": "code",
   "execution_count": 10,
   "metadata": {
    "collapsed": false
   },
   "outputs": [
    {
     "data": {
      "text/plain": [
       "(4132, 83)"
      ]
     },
     "execution_count": 10,
     "metadata": {},
     "output_type": "execute_result"
    }
   ],
   "source": [
    "business.shape"
   ]
  },
  {
   "cell_type": "code",
   "execution_count": 11,
   "metadata": {
    "collapsed": true
   },
   "outputs": [],
   "source": [
    "business_columns = [columns.replace('.', '_').replace(' ', '_').replace('-','_').replace('/','_').replace('attributes_','') for columns in business.columns]"
   ]
  },
  {
   "cell_type": "code",
   "execution_count": 12,
   "metadata": {
    "collapsed": true
   },
   "outputs": [],
   "source": [
    "business.columns = business_columns"
   ]
  },
  {
   "cell_type": "code",
   "execution_count": 13,
   "metadata": {
    "collapsed": false
   },
   "outputs": [],
   "source": [
    "business[\"dummy_city\"] = business[\"city\"].map(lambda x: 1 if x == \"Las Vegas\" else 0)"
   ]
  },
  {
   "cell_type": "code",
   "execution_count": 14,
   "metadata": {
    "collapsed": false,
    "scrolled": true
   },
   "outputs": [
    {
     "data": {
      "text/plain": [
       "array([1, 0])"
      ]
     },
     "execution_count": 14,
     "metadata": {},
     "output_type": "execute_result"
    }
   ],
   "source": [
    "business.dummy_city.unique()"
   ]
  },
  {
   "cell_type": "code",
   "execution_count": 15,
   "metadata": {
    "collapsed": false
   },
   "outputs": [
    {
     "data": {
      "text/plain": [
       "(4132, 84)"
      ]
     },
     "execution_count": 15,
     "metadata": {},
     "output_type": "execute_result"
    }
   ],
   "source": [
    "business.shape"
   ]
  },
  {
   "cell_type": "code",
   "execution_count": 16,
   "metadata": {
    "collapsed": false
   },
   "outputs": [],
   "source": [
    "business = business.fillna(0)"
   ]
  },
  {
   "cell_type": "code",
   "execution_count": 227,
   "metadata": {
    "collapsed": false,
    "scrolled": true
   },
   "outputs": [
    {
     "data": {
      "text/plain": [
       "'dummy_city ~ Accepts_Insurance + Ages_Allowed + Alcohol + Ambience_casual + Ambience_classy + Ambience_divey + Ambience_intimate + Ambience_romantic + Ambience_touristy + Ambience_trendy + Ambience_upscale + Attire + BYOB + Coat_Check + Dogs_Allowed + Drive_Thru + Good_For_Dancing + Good_For_Groups + Good_For_dinner + Good_For_latenight + Happy_Hour + Music_dj + Music_karaoke + Music_video + Parking_valet + Smoking + Waiter_Service + Wi_Fi'"
      ]
     },
     "execution_count": 227,
     "metadata": {},
     "output_type": "execute_result"
    }
   ],
   "source": [
    "predictor = ' + '.join([x for x in business.columns if not x in ['neighborhoods','dummy_city', 'stars', 'categories','business_id','name','review_count','city','', \"Accepts_Credit_Cards\" ,\"Ambience_hipster\" , \"BYOB \", \"BYOB_Corkage\", \"By_Appointment_Only\" ,\"Caters\", \"Corkage\", \"Delivery\", \"Dietary_Restrictions_dairy_free\", \"Dietary_Restrictions_gluten_free\",\"Dietary_Restrictions_halal\",\"Dietary_Restrictions_kosher\",\"Dietary_Restrictions_soy_free\", \"Dietary_Restrictions_vegan\",\"Dietary_Restrictions_vegetarian\",\"Dogs_Allowed\" +\"Drive_Thru\",\"Good_For_breakfast\",\"Good_For_brunch\",\"Good_For_dessert\",\"Good_For_lunch\",\"Good_for_Kids\",\"Has_TV\",\"Music_background_music\",\"Music_jukebox\",\"Music_live\" ,\"Noise_Level\", \"Open_24_Hours\", \"Order_at_Counter\", \"Outdoor_Seating\",\"Parking_garage\", \"Parking_lot\", \"Parking_street\", \"Parking_validated\", \"Price_Range\", \"Take_out\", \"Takes_Reservations\",  \"Wheelchair_Accessible\" , \"hours_Friday_close\", \"hours_Friday_open\", \"hours_Monday_close\",\"hours_Monday_open\", \"hours_Saturday_close\",\"hours_Saturday_open\", \"hours_Sunday_close\", \"hours_Sunday_open\", \"hours_Thursday_close\",\"hours_Thursday_open\", \"hours_Tuesday_close\",\"hours_Tuesday_open\",\"hours_Wednesday_close\",\"hours_Wednesday_open\",\"open\"\n",
    "]])\n",
    "formula = 'dummy_city ~ ' + predictor\n",
    "formula\n",
    "\n"
   ]
  },
  {
   "cell_type": "code",
   "execution_count": 228,
   "metadata": {
    "collapsed": false
   },
   "outputs": [],
   "source": [
    "y, X =  patsy.dmatrices(formula, business, return_type=\"dataframe\")"
   ]
  },
  {
   "cell_type": "code",
   "execution_count": 229,
   "metadata": {
    "collapsed": false
   },
   "outputs": [
    {
     "name": "stdout",
     "output_type": "stream",
     "text": [
      "(4132, 1) (4132, 29)\n"
     ]
    }
   ],
   "source": [
    "print y.shape, X.shape"
   ]
  },
  {
   "cell_type": "code",
   "execution_count": 230,
   "metadata": {
    "collapsed": false
   },
   "outputs": [
    {
     "data": {
      "text/plain": [
       "(4132, 29)"
      ]
     },
     "execution_count": 230,
     "metadata": {},
     "output_type": "execute_result"
    }
   ],
   "source": [
    "X.shape"
   ]
  },
  {
   "cell_type": "code",
   "execution_count": 231,
   "metadata": {
    "collapsed": false,
    "scrolled": true
   },
   "outputs": [
    {
     "data": {
      "text/plain": [
       "Index([u'Intercept', u'Accepts_Insurance[T.True]', u'Ages_Allowed[T.True]',\n",
       "       u'Alcohol[T.True]', u'Ambience_casual[T.True]',\n",
       "       u'Ambience_classy[T.True]', u'Ambience_divey[T.True]',\n",
       "       u'Ambience_intimate[T.True]', u'Ambience_romantic[T.True]',\n",
       "       u'Ambience_touristy[T.True]', u'Ambience_trendy[T.True]',\n",
       "       u'Ambience_upscale[T.True]', u'Attire[T.True]', u'BYOB[T.True]',\n",
       "       u'Coat_Check[T.True]', u'Dogs_Allowed[T.True]', u'Drive_Thru[T.True]',\n",
       "       u'Good_For_Dancing[T.True]', u'Good_For_Groups[T.True]',\n",
       "       u'Good_For_dinner[T.True]', u'Good_For_latenight[T.True]',\n",
       "       u'Happy_Hour[T.True]', u'Music_dj[T.True]', u'Music_karaoke[T.True]',\n",
       "       u'Music_video[T.True]', u'Parking_valet[T.True]', u'Smoking[T.True]',\n",
       "       u'Waiter_Service[T.True]', u'Wi_Fi[T.True]'],\n",
       "      dtype='object')"
      ]
     },
     "execution_count": 231,
     "metadata": {},
     "output_type": "execute_result"
    }
   ],
   "source": [
    "X.columns"
   ]
  },
  {
   "cell_type": "code",
   "execution_count": 232,
   "metadata": {
    "collapsed": false,
    "scrolled": false
   },
   "outputs": [
    {
     "data": {
      "text/plain": [
       "Index([u'dummy_city'], dtype='object')"
      ]
     },
     "execution_count": 232,
     "metadata": {},
     "output_type": "execute_result"
    }
   ],
   "source": [
    "y.columns"
   ]
  },
  {
   "cell_type": "code",
   "execution_count": 233,
   "metadata": {
    "collapsed": false
   },
   "outputs": [],
   "source": [
    "y = y.values.ravel()"
   ]
  },
  {
   "cell_type": "code",
   "execution_count": 234,
   "metadata": {
    "collapsed": false
   },
   "outputs": [],
   "source": [
    "from sklearn.preprocessing import StandardScaler\n",
    "\n",
    "ss = StandardScaler()\n",
    "\n",
    "Xn = ss.fit_transform(X)\n"
   ]
  },
  {
   "cell_type": "code",
   "execution_count": 235,
   "metadata": {
    "collapsed": false,
    "scrolled": true
   },
   "outputs": [
    {
     "name": "stdout",
     "output_type": "stream",
     "text": [
      "Fitting 5 folds for each of 100 candidates, totalling 500 fits\n"
     ]
    },
    {
     "name": "stderr",
     "output_type": "stream",
     "text": [
      "[Parallel(n_jobs=1)]: Done  49 tasks       | elapsed:    0.7s\n",
      "[Parallel(n_jobs=1)]: Done 199 tasks       | elapsed:    3.2s\n",
      "[Parallel(n_jobs=1)]: Done 449 tasks       | elapsed:    7.7s\n"
     ]
    },
    {
     "name": "stdout",
     "output_type": "stream",
     "text": [
      "{'penalty': 'l1', 'C': 20.408261224489795, 'solver': 'liblinear'}\n"
     ]
    },
    {
     "name": "stderr",
     "output_type": "stream",
     "text": [
      "[Parallel(n_jobs=1)]: Done 500 out of 500 | elapsed:    8.8s finished\n"
     ]
    }
   ],
   "source": [
    "lr_params = {\n",
    "    'penalty':['l1','l2'],\n",
    "    'solver':['liblinear'],\n",
    "    'C':np.linspace(0.0001, 1000, 50)\n",
    "}\n",
    "\n",
    "lr_gs = GridSearchCV(LogisticRegression(), lr_params, cv=5, verbose=1)\n",
    "\n",
    "lr_gs.fit(Xn, y)\n",
    "print lr_gs.best_params_\n",
    "best_lr = lr_gs.best_estimator_"
   ]
  },
  {
   "cell_type": "code",
   "execution_count": 236,
   "metadata": {
    "collapsed": false,
    "scrolled": false
   },
   "outputs": [
    {
     "data": {
      "image/png": "[encoded data removed]",
      "text/plain": [
       "<matplotlib.figure.Figure at 0x1187d8b10>"
      ]
     },
     "metadata": {},
     "output_type": "display_data"
    }
   ],
   "source": [
    "from sklearn.metrics import roc_curve, roc_auc_score, auc\n",
    "\n",
    "def plot_roc(mod, X, y, varname):\n",
    "    mod.fit(X, y)\n",
    "    y_pp = mod.predict_proba(X)[:, 1]\n",
    "    fpr_, tpr_, _ = roc_curve(y, y_pp)\n",
    "    auc_ = auc(fpr_, tpr_)\n",
    "    acc_ = np.abs(0.5 - np.mean(y)) + 0.5\n",
    "    \n",
    "    fig, axr = plt.subplots(figsize=(5,5))\n",
    "\n",
    "    axr.plot(fpr_, tpr_, label='ROC (area = %0.2f)' % auc_,\n",
    "             color='darkred', linewidth=4,\n",
    "             alpha=0.7)\n",
    "    axr.plot([0, 1], [0, 1], color='grey', ls='dashed',\n",
    "             alpha=0.9, linewidth=4, label='baseline accuracy = %0.2f' % acc_)\n",
    "\n",
    "    axr.set_xlim([-0.05, 1.05])\n",
    "    axr.set_ylim([0.0, 1.05])\n",
    "    axr.set_xlabel('false positive rate', fontsize=16)\n",
    "    axr.set_ylabel('true positive rate', fontsize=16)\n",
    "    axr.set_title(varname+' vs. ROC curve\\n', fontsize=20)\n",
    "\n",
    "    axr.legend(loc=\"lower right\", fontsize=12)\n",
    "\n",
    "    plt.show()\n",
    "    \n",
    "scale = StandardScaler()\n",
    "Xn = scale.fit_transform(X)\n",
    "\n",
    "plot_roc(best_lr, Xn, y, 'business')"
   ]
  },
  {
   "cell_type": "code",
   "execution_count": 219,
   "metadata": {
    "collapsed": false
   },
   "outputs": [],
   "source": [
    "# import statsmodels.formula.api as sm\n",
    "# import seaborn as sns\n",
    "# import matplotlib as mpl\n",
    "# import matplotlib.pyplot as plt\n",
    "\n",
    "# f = 'y ~ Xn'\n",
    "# reg_results = sm.ols(f, data=business).fit().summary()\n",
    "\n",
    "# sns.set(style=\"ticks\") \n",
    "# mpl.rc(\"figure\", figsize=(10, 15))\n",
    "\n",
    "# sns.coefplot(f, data,intercept=False)"
   ]
  },
  {
   "cell_type": "markdown",
   "metadata": {},
   "source": [
    "<img src=\"http://imgur.com/l5NasQj.png\" style=\"float: left; margin: 25px 15px 0px 0px; height: 25px\">\n",
    "\n",
    "## 3. Different categories of ratings\n",
    "\n",
    "---\n",
    "\n",
    "Yelp is finally ready to admit that their rating system sucks. No one cares about the ratings, they just use the site to find out what's nearby. The ratings are simply too unreliable for people. \n",
    "\n",
    "Yelp hypothesizes that this is, in fact, because different people tend to give their ratings based on different things. They believe that perhaps some people always base their ratings on quality of food, others on service, and perhaps other categories as well. \n",
    "\n",
    "1. Do some users tend to talk about service more than others in reviews/tips? Divide up the tips/reviews into more \"service-focused\" ones and those less concerned with service.\n",
    "2. Create two new ratings for businesses: ratings from just the service-focused reviews and ratings from the non-service reviews.\n",
    "3. Construct a regression model for each of the two ratings. They should use the same predictor variables (of your choice). \n",
    "4. Validate the performance of the models.\n",
    "5. Do the models coefficients differ at all? What does this tell you about the hypothesis that there are in fact two different kinds of ratings?"
   ]
  },
  {
   "cell_type": "code",
   "execution_count": 140,
   "metadata": {
    "collapsed": true
   },
   "outputs": [],
   "source": [
    "import pandas as pd\n",
    "reviews = pd.read_csv('../../project-04/reviews_changed.csv')"
   ]
  },
  {
   "cell_type": "code",
   "execution_count": 141,
   "metadata": {
    "collapsed": false,
    "scrolled": true
   },
   "outputs": [
    {
     "data": {
      "text/html": [
       "<div>\n",
       "<table border=\"1\" class=\"dataframe\">\n",
       "  <thead>\n",
       "    <tr style=\"text-align: right;\">\n",
       "      <th></th>\n",
       "      <th>Unnamed: 0</th>\n",
       "      <th>Unnamed: 0.1</th>\n",
       "      <th>user_id</th>\n",
       "      <th>review_id</th>\n",
       "      <th>votes_cool</th>\n",
       "      <th>business_id</th>\n",
       "      <th>votes_funny</th>\n",
       "      <th>stars</th>\n",
       "      <th>date</th>\n",
       "      <th>votes_useful</th>\n",
       "      <th>...</th>\n",
       "      <th>service_great</th>\n",
       "      <th>staff_friendly</th>\n",
       "      <th>super_friendly</th>\n",
       "      <th>sweet_potato</th>\n",
       "      <th>tasted_like</th>\n",
       "      <th>time_vegas</th>\n",
       "      <th>try_place</th>\n",
       "      <th>ve_seen</th>\n",
       "      <th>ve_tried</th>\n",
       "      <th>wait_staff</th>\n",
       "    </tr>\n",
       "  </thead>\n",
       "  <tbody>\n",
       "    <tr>\n",
       "      <th>0</th>\n",
       "      <td>0</td>\n",
       "      <td>0</td>\n",
       "      <td>ZaLZYDB-HeFAZKMIjNyCyA</td>\n",
       "      <td>qlpTJ9sHAh24TdQIKb2ZFw</td>\n",
       "      <td>0</td>\n",
       "      <td>qsWxbgQwuomXvMseg23DGg</td>\n",
       "      <td>0</td>\n",
       "      <td>1</td>\n",
       "      <td>2014-06-08</td>\n",
       "      <td>0</td>\n",
       "      <td>...</td>\n",
       "      <td>0</td>\n",
       "      <td>0</td>\n",
       "      <td>0</td>\n",
       "      <td>0</td>\n",
       "      <td>0</td>\n",
       "      <td>0</td>\n",
       "      <td>0</td>\n",
       "      <td>0</td>\n",
       "      <td>0</td>\n",
       "      <td>0</td>\n",
       "    </tr>\n",
       "    <tr>\n",
       "      <th>1</th>\n",
       "      <td>1</td>\n",
       "      <td>1</td>\n",
       "      <td>TjsABzuLx7k4sQG_L3txgg</td>\n",
       "      <td>eyEWPJaU2RwIareTyt8I-w</td>\n",
       "      <td>0</td>\n",
       "      <td>FKHv7FkblONv9qqBndJUrg</td>\n",
       "      <td>1</td>\n",
       "      <td>1</td>\n",
       "      <td>2013-03-29</td>\n",
       "      <td>0</td>\n",
       "      <td>...</td>\n",
       "      <td>0</td>\n",
       "      <td>0</td>\n",
       "      <td>0</td>\n",
       "      <td>0</td>\n",
       "      <td>0</td>\n",
       "      <td>0</td>\n",
       "      <td>0</td>\n",
       "      <td>0</td>\n",
       "      <td>0</td>\n",
       "      <td>0</td>\n",
       "    </tr>\n",
       "    <tr>\n",
       "      <th>2</th>\n",
       "      <td>2</td>\n",
       "      <td>2</td>\n",
       "      <td>Ofxlhi_HKp7myFDpwg9aIA</td>\n",
       "      <td>YMMWSqFhGT6IbWfcOmbTuw</td>\n",
       "      <td>0</td>\n",
       "      <td>K9fIADfO_zKFPFm75A1Hxw</td>\n",
       "      <td>0</td>\n",
       "      <td>1</td>\n",
       "      <td>2009-04-22</td>\n",
       "      <td>0</td>\n",
       "      <td>...</td>\n",
       "      <td>0</td>\n",
       "      <td>0</td>\n",
       "      <td>0</td>\n",
       "      <td>0</td>\n",
       "      <td>0</td>\n",
       "      <td>0</td>\n",
       "      <td>0</td>\n",
       "      <td>0</td>\n",
       "      <td>0</td>\n",
       "      <td>0</td>\n",
       "    </tr>\n",
       "    <tr>\n",
       "      <th>3</th>\n",
       "      <td>3</td>\n",
       "      <td>3</td>\n",
       "      <td>-Rwn_JlLqNEhQIaiA8gFlw</td>\n",
       "      <td>9Efbx9dLzU0Lb3123_lErw</td>\n",
       "      <td>0</td>\n",
       "      <td>UxvOXcoCRFRAVhRB0D9imw</td>\n",
       "      <td>0</td>\n",
       "      <td>1</td>\n",
       "      <td>2014-03-24</td>\n",
       "      <td>0</td>\n",
       "      <td>...</td>\n",
       "      <td>0</td>\n",
       "      <td>0</td>\n",
       "      <td>0</td>\n",
       "      <td>0</td>\n",
       "      <td>0</td>\n",
       "      <td>0</td>\n",
       "      <td>0</td>\n",
       "      <td>0</td>\n",
       "      <td>0</td>\n",
       "      <td>0</td>\n",
       "    </tr>\n",
       "    <tr>\n",
       "      <th>4</th>\n",
       "      <td>4</td>\n",
       "      <td>4</td>\n",
       "      <td>ajzzOmblivZzKJ6nLmtdjA</td>\n",
       "      <td>dOvVn6FJBTkcSPYuhtL5Ug</td>\n",
       "      <td>0</td>\n",
       "      <td>-xLwGUmmyKgsTtFOOXzjeg</td>\n",
       "      <td>0</td>\n",
       "      <td>1</td>\n",
       "      <td>2015-09-12</td>\n",
       "      <td>0</td>\n",
       "      <td>...</td>\n",
       "      <td>0</td>\n",
       "      <td>0</td>\n",
       "      <td>0</td>\n",
       "      <td>0</td>\n",
       "      <td>0</td>\n",
       "      <td>0</td>\n",
       "      <td>0</td>\n",
       "      <td>0</td>\n",
       "      <td>0</td>\n",
       "      <td>0</td>\n",
       "    </tr>\n",
       "  </tbody>\n",
       "</table>\n",
       "<p>5 rows × 110 columns</p>\n",
       "</div>"
      ],
      "text/plain": [
       "   Unnamed: 0  Unnamed: 0.1                 user_id               review_id  \\\n",
       "0           0             0  ZaLZYDB-HeFAZKMIjNyCyA  qlpTJ9sHAh24TdQIKb2ZFw   \n",
       "1           1             1  TjsABzuLx7k4sQG_L3txgg  eyEWPJaU2RwIareTyt8I-w   \n",
       "2           2             2  Ofxlhi_HKp7myFDpwg9aIA  YMMWSqFhGT6IbWfcOmbTuw   \n",
       "3           3             3  -Rwn_JlLqNEhQIaiA8gFlw  9Efbx9dLzU0Lb3123_lErw   \n",
       "4           4             4  ajzzOmblivZzKJ6nLmtdjA  dOvVn6FJBTkcSPYuhtL5Ug   \n",
       "\n",
       "   votes_cool             business_id  votes_funny  stars        date  \\\n",
       "0           0  qsWxbgQwuomXvMseg23DGg            0      1  2014-06-08   \n",
       "1           0  FKHv7FkblONv9qqBndJUrg            1      1  2013-03-29   \n",
       "2           0  K9fIADfO_zKFPFm75A1Hxw            0      1  2009-04-22   \n",
       "3           0  UxvOXcoCRFRAVhRB0D9imw            0      1  2014-03-24   \n",
       "4           0  -xLwGUmmyKgsTtFOOXzjeg            0      1  2015-09-12   \n",
       "\n",
       "   votes_useful     ...      service_great  staff_friendly  super_friendly  \\\n",
       "0             0     ...                  0               0               0   \n",
       "1             0     ...                  0               0               0   \n",
       "2             0     ...                  0               0               0   \n",
       "3             0     ...                  0               0               0   \n",
       "4             0     ...                  0               0               0   \n",
       "\n",
       "   sweet_potato  tasted_like  time_vegas  try_place  ve_seen  ve_tried  \\\n",
       "0             0            0           0          0        0         0   \n",
       "1             0            0           0          0        0         0   \n",
       "2             0            0           0          0        0         0   \n",
       "3             0            0           0          0        0         0   \n",
       "4             0            0           0          0        0         0   \n",
       "\n",
       "   wait_staff  \n",
       "0           0  \n",
       "1           0  \n",
       "2           0  \n",
       "3           0  \n",
       "4           0  \n",
       "\n",
       "[5 rows x 110 columns]"
      ]
     },
     "execution_count": 141,
     "metadata": {},
     "output_type": "execute_result"
    }
   ],
   "source": [
    "reviews.head()"
   ]
  },
  {
   "cell_type": "code",
   "execution_count": 142,
   "metadata": {
    "collapsed": false
   },
   "outputs": [
    {
     "data": {
      "text/plain": [
       "array([1, 2, 3, 4])"
      ]
     },
     "execution_count": 142,
     "metadata": {},
     "output_type": "execute_result"
    }
   ],
   "source": [
    "reviews.stars.unique()"
   ]
  },
  {
   "cell_type": "code",
   "execution_count": 143,
   "metadata": {
    "collapsed": false
   },
   "outputs": [],
   "source": [
    "del reviews[\"Unnamed: 0\"]\n",
    "del reviews[\"Unnamed: 0.1\"]"
   ]
  },
  {
   "cell_type": "code",
   "execution_count": 144,
   "metadata": {
    "collapsed": true
   },
   "outputs": [],
   "source": [
    "review_columns = [columns.replace('_', ' ') for columns in reviews.columns]"
   ]
  },
  {
   "cell_type": "code",
   "execution_count": 145,
   "metadata": {
    "collapsed": false,
    "scrolled": false
   },
   "outputs": [
    {
     "name": "stdout",
     "output_type": "stream",
     "text": [
      "user_id\n",
      "review_id\n",
      "votes_cool\n",
      "business_id\n",
      "votes_funny\n",
      "stars\n",
      "date\n",
      "votes_useful\n",
      "minutes_10\n",
      "minutes_15\n",
      "minutes_20\n",
      "minutes_30\n",
      "bar_food\n",
      "beer_selection\n",
      "best_ve\n",
      "bloody_mary\n",
      "bottle_service\n",
      "chicken_waffles\n",
      "customer_service\n",
      "dance_floor\n",
      "decided_try\n",
      "definitely_come\n",
      "definitely_recommend\n",
      "didn_want\n",
      "don_know\n",
      "don_like\n",
      "don_think\n",
      "don_want\n",
      "eggs_benedict\n",
      "fast_food\n",
      "feel_like\n",
      "felt_like\n",
      "fish_chips\n",
      "food_amazing\n",
      "food_came\n",
      "food_delicious\n",
      "food_good\n",
      "food_great\n",
      "food_just\n",
      "food_service\n",
      "french_fries\n",
      "french_toast\n",
      "friday_night\n",
      "fried_chicken\n",
      "friendly_staff\n",
      "good_food\n",
      "good_place\n",
      "good_service\n",
      "good_thing\n",
      "good_time\n",
      "great_atmosphere\n",
      "great_experience\n",
      "great_food\n",
      "great_place\n",
      "great_service\n",
      "great_time\n",
      "happy_hour\n",
      "hash_browns\n",
      "highly_recommend\n",
      "hip_hop\n",
      "ice_cream\n",
      "just_like\n",
      "just_ok\n",
      "just_right\n",
      "las_vegas\n",
      "late_night\n",
      "like_place\n",
      "little_bit\n",
      "long_time\n",
      "looked_like\n",
      "looks_like\n",
      "love_place\n",
      "mac_cheese\n",
      "make_sure\n",
      "mashed_potatoes\n",
      "medium_rare\n",
      "minutes_later\n",
      "new_york\n",
      "onion_rings\n",
      "place_good\n",
      "place_great\n",
      "place_just\n",
      "potato_fries\n",
      "pretty_good\n",
      "quality_food\n",
      "really_enjoyed\n",
      "really_good\n",
      "really_like\n",
      "really_nice\n",
      "recommend_place\n",
      "red_velvet\n",
      "right_away\n",
      "saturday_night\n",
      "second_time\n",
      "service_excellent\n",
      "service_food\n",
      "service_friendly\n",
      "service_good\n",
      "service_great\n",
      "staff_friendly\n",
      "super_friendly\n",
      "sweet_potato\n",
      "tasted_like\n",
      "time_vegas\n",
      "try_place\n",
      "ve_seen\n",
      "ve_tried\n",
      "wait_staff\n",
      "108\n"
     ]
    }
   ],
   "source": [
    "count = 0\n",
    "for i in reviews.columns:\n",
    "    count = count + 1\n",
    "    print i\n",
    "    \n",
    "print count"
   ]
  },
  {
   "cell_type": "code",
   "execution_count": 146,
   "metadata": {
    "collapsed": true
   },
   "outputs": [],
   "source": [
    "review_columns = [columns.replace('_', ' ') for columns in reviews.columns]"
   ]
  },
  {
   "cell_type": "code",
   "execution_count": 147,
   "metadata": {
    "collapsed": true
   },
   "outputs": [],
   "source": [
    "reviews.columns = review_columns"
   ]
  },
  {
   "cell_type": "code",
   "execution_count": 148,
   "metadata": {
    "collapsed": true
   },
   "outputs": [],
   "source": [
    "service_focus = ['bottle service','customer service','food service','good service','great service','service excellent',\n",
    "                'service food','service friendly','service good','service great','great atmosphere','great experience',\n",
    "                'friendly staff','staff friendly','wait staff','super friendly', 'minutes 10' , 'minutes 15' , 'minutes 20', 'minutes 30',\n",
    "                 'slow service','awesome service','excellent service','fast service','friendly service',\n",
    "                'great customer','great staff','long wait','slow service']\n",
    "\n",
    "other_focus = [x for x in reviews.columns if not x in ['bottle service','customer service','food service','good service','great service','service excellent',\n",
    "                'service food','service friendly','service good','service great','great atmosphere','great experience',\n",
    "                'friendly staff','staff friendly','wait staff','super friendly', 'minutes 10' , 'minutes 15' , 'minutes 20', 'minutes 30',\n",
    "                 'slow service','awesome service','excellent service','fast service','friendly service',\n",
    "                'great customer','great staff','long wait','slow service', 'user id', 'review id', 'votes cool', 'business id', 'votes funny', 'stars', 'date', 'votes useful']]"
   ]
  },
  {
   "cell_type": "code",
   "execution_count": 151,
   "metadata": {
    "collapsed": false
   },
   "outputs": [
    {
     "name": "stdout",
     "output_type": "stream",
     "text": [
      "['minutes 10', 'minutes 15', 'minutes 20', 'minutes 30', 'bottle service', 'customer service', 'food service', 'friendly staff', 'good service', 'great atmosphere', 'great experience', 'great service', 'service excellent', 'service food', 'service friendly', 'service good', 'service great', 'staff friendly', 'super friendly', 'wait staff'] \n",
      "\n",
      "['bar food', 'beer selection', 'best ve', 'bloody mary', 'chicken waffles', 'dance floor', 'decided try', 'definitely come', 'definitely recommend', 'didn want', 'don know', 'don like', 'don think', 'don want', 'eggs benedict', 'fast food', 'feel like', 'felt like', 'fish chips', 'food amazing', 'food came', 'food delicious', 'food good', 'food great', 'food just', 'french fries', 'french toast', 'friday night', 'fried chicken', 'good food', 'good place', 'good thing', 'good time', 'great food', 'great place', 'great time', 'happy hour', 'hash browns', 'highly recommend', 'hip hop', 'ice cream', 'just like', 'just ok', 'just right', 'las vegas', 'late night', 'like place', 'little bit', 'long time', 'looked like', 'looks like', 'love place', 'mac cheese', 'make sure', 'mashed potatoes', 'medium rare', 'minutes later', 'new york', 'onion rings', 'place good', 'place great', 'place just', 'potato fries', 'pretty good', 'quality food', 'really enjoyed', 'really good', 'really like', 'really nice', 'recommend place', 'red velvet', 'right away', 'saturday night', 'second time', 'sweet potato', 'tasted like', 'time vegas', 'try place', 've seen', 've tried']\n"
     ]
    }
   ],
   "source": [
    "review_service = [x for x in reviews.columns if x in service_focus]\n",
    "review_others = [x for x in reviews.columns if x in other_focus]\n",
    "print review_service, '\\n', '\\n' ,  review_others"
   ]
  },
  {
   "cell_type": "code",
   "execution_count": 152,
   "metadata": {
    "collapsed": false
   },
   "outputs": [
    {
     "name": "stdout",
     "output_type": "stream",
     "text": [
      "[1 0 2 3 4]\n"
     ]
    }
   ],
   "source": [
    "reviews['service_focused'] = reviews.loc[:,review_service].sum(axis=1)\n",
    "reviews['remaining_field'] = reviews.loc[:,review_others].sum(axis=1) \n",
    "print reviews.service_focused.unique()"
   ]
  },
  {
   "cell_type": "code",
   "execution_count": 153,
   "metadata": {
    "collapsed": false
   },
   "outputs": [],
   "source": [
    "reviews['service_star_count'] = 0\n",
    "reviews['other_star_count'] = 0"
   ]
  },
  {
   "cell_type": "code",
   "execution_count": 154,
   "metadata": {
    "collapsed": false
   },
   "outputs": [],
   "source": [
    "reviews.loc[(reviews.service_focused >= reviews.remaining_field),'service_star_count'] = reviews.stars\n",
    "reviews.loc[~(reviews.service_focused >= reviews.remaining_field),'other_star_count'] = reviews.stars"
   ]
  },
  {
   "cell_type": "code",
   "execution_count": 163,
   "metadata": {
    "collapsed": false
   },
   "outputs": [],
   "source": [
    "# Choosing our x and y variables:\n",
    "variables = ['bar food', 'beer selection', 'best ve', 'bloody mary', 'chicken waffles', 'dance floor', 'decided try', 'definitely come', 'definitely recommend', 'didn want', 'don know', 'don like', 'don think', 'don want', 'eggs benedict', 'fast food', 'feel like', 'felt like', 'fish chips', 'food amazing', 'food came', 'food delicious', 'food good', 'food great', 'food just', 'french fries', 'french toast', 'friday night', 'fried chicken', 'good food', 'good place', 'good thing', 'good time', 'great food', 'great place', 'great time', 'happy hour', 'hash browns', 'highly recommend', 'hip hop', 'ice cream', 'just like', 'just ok', 'just right', 'las vegas', 'late night', 'like place', 'little bit', 'long time', 'looked like', 'looks like', 'love place', 'mac cheese', 'make sure', 'mashed potatoes', 'medium rare', 'minutes later', 'new york', 'onion rings', 'place good', 'place great', 'place just', 'potato fries', 'pretty good', 'quality food', 'really enjoyed', 'really good', 'really like', 'really nice', 'recommend place', 'red velvet', 'right away', 'saturday night', 'second time', 'sweet potato', 'tasted like', 'time vegas', 'try place', 've seen', 've tried']\n",
    "x_with_service = reviews.loc[(reviews.service_star_count != 0), variables]\n",
    "x_without_service =  reviews.loc[~(reviews.service_star_count != 0),variables]\n",
    "\n",
    "y_with_service = reviews.loc[(reviews.service_star_count != 0),'service_star_count']\n",
    "y_without_service = reviews.loc[~(reviews.service_star_count != 0),'other_star_count']"
   ]
  },
  {
   "cell_type": "code",
   "execution_count": 164,
   "metadata": {
    "collapsed": false
   },
   "outputs": [],
   "source": [
    "y_r_s = y_with_service.values.ravel()\n",
    "y_r_n = y_without_service.values.ravel()"
   ]
  },
  {
   "cell_type": "code",
   "execution_count": 165,
   "metadata": {
    "collapsed": false,
    "scrolled": true
   },
   "outputs": [
    {
     "name": "stdout",
     "output_type": "stream",
     "text": [
      "R^2 with service:  0.0362635698111\n",
      "R^2 value without services:  0.191229305959\n"
     ]
    }
   ],
   "source": [
    "\n",
    "reg = ElasticNetCV()\n",
    "model_with_service = reg.fit(x_with_service, y_with_service)\n",
    "score_with_service = reg.score(x_with_service,y_with_service)\n",
    "print 'R^2 with service: ',score_with_service\n",
    "\n",
    "model_no_service = reg.fit(x_without_service,y_without_service)\n",
    "score_no_service = reg.score(x_without_service,y_without_service)\n",
    "print 'R^2 value without services: ',score_no_service    "
   ]
  },
  {
   "cell_type": "code",
   "execution_count": null,
   "metadata": {
    "collapsed": true
   },
   "outputs": [],
   "source": []
  },
  {
   "cell_type": "markdown",
   "metadata": {},
   "source": [
    "<img src=\"http://imgur.com/l5NasQj.png\" style=\"float: left; margin: 25px 15px 0px 0px; height: 25px\">\n",
    "\n",
    "## 4. Identifying \"elite\" users\n",
    "\n",
    "---\n",
    "\n",
    "Yelp, though having their own formula for determining whether a user is elite or not, is interested in delving deeper into what differentiates an elite user from a normal user at a broader level.\n",
    "\n",
    "Use a classification model to predict whether a user is elite or not. Note that users can be elite in some years and not in others.\n",
    "\n",
    "1. What things predict well whether a user is elite or not?\n",
    "- Validate the model.\n",
    "- If you were to remove the \"counts\" metrics for users (reviews, votes, compliments), what distinguishes an elite user, if anything? Validate the model and compare it to the one with the count variables.\n",
    "- Think of a way to visually represent your results in a compelling way.\n",
    "- Give a brief write-up of your findings.\n"
   ]
  },
  {
   "cell_type": "code",
   "execution_count": 117,
   "metadata": {
    "collapsed": false
   },
   "outputs": [
    {
     "name": "stdout",
     "output_type": "stream",
     "text": [
      "user_id\n",
      "votes_cool\n",
      "votes_funny\n",
      "stars\n",
      "votes_useful\n",
      "minutes_10\n",
      "minutes_15\n",
      "minutes_20\n",
      "minutes_30\n",
      "bar_food\n",
      "beer_selection\n",
      "best_ve\n",
      "bloody_mary\n",
      "bottle_service\n",
      "chicken_waffles\n",
      "customer_service\n",
      "dance_floor\n",
      "decided_try\n",
      "definitely_come\n",
      "definitely_recommend\n",
      "didn_want\n",
      "don_know\n",
      "don_like\n",
      "don_think\n",
      "don_want\n",
      "eggs_benedict\n",
      "fast_food\n",
      "feel_like\n",
      "felt_like\n",
      "fish_chips\n",
      "food_amazing\n",
      "food_came\n",
      "food_delicious\n",
      "food_good\n",
      "food_great\n",
      "food_just\n",
      "food_service\n",
      "french_fries\n",
      "french_toast\n",
      "friday_night\n",
      "fried_chicken\n",
      "friendly_staff\n",
      "good_food\n",
      "good_place\n",
      "good_service\n",
      "good_thing\n",
      "good_time\n",
      "great_atmosphere\n",
      "great_experience\n",
      "great_food\n",
      "great_place\n",
      "great_service\n",
      "great_time\n",
      "happy_hour\n",
      "hash_browns\n",
      "highly_recommend\n",
      "hip_hop\n",
      "ice_cream\n",
      "just_like\n",
      "just_ok\n",
      "just_right\n",
      "las_vegas\n",
      "late_night\n",
      "like_place\n",
      "little_bit\n",
      "long_time\n",
      "looked_like\n",
      "looks_like\n",
      "love_place\n",
      "mac_cheese\n",
      "make_sure\n",
      "mashed_potatoes\n",
      "medium_rare\n",
      "minutes_later\n",
      "new_york\n",
      "onion_rings\n",
      "place_good\n",
      "place_great\n",
      "place_just\n",
      "potato_fries\n",
      "pretty_good\n",
      "quality_food\n",
      "really_enjoyed\n",
      "really_good\n",
      "really_like\n",
      "really_nice\n",
      "recommend_place\n",
      "red_velvet\n",
      "right_away\n",
      "saturday_night\n",
      "second_time\n",
      "service_excellent\n",
      "service_food\n",
      "service_friendly\n",
      "service_good\n",
      "service_great\n",
      "staff_friendly\n",
      "super_friendly\n",
      "sweet_potato\n",
      "tasted_like\n",
      "time_vegas\n",
      "try_place\n",
      "ve_seen\n",
      "ve_tried\n",
      "wait_staff\n",
      "Reviews\n"
     ]
    }
   ],
   "source": [
    "for i in reviews.columns:\n",
    "    print i"
   ]
  },
  {
   "cell_type": "code",
   "execution_count": 118,
   "metadata": {
    "collapsed": false
   },
   "outputs": [
    {
     "data": {
      "text/plain": [
       "array([   1,    2,    9, ..., 1049, 1199,  724])"
      ]
     },
     "execution_count": 118,
     "metadata": {},
     "output_type": "execute_result"
    }
   ],
   "source": [
    "users = pd.read_csv(\"../../project-04/users_changed.csv\")\n",
    "users.review_count.unique()"
   ]
  },
  {
   "cell_type": "code",
   "execution_count": 119,
   "metadata": {
    "collapsed": false
   },
   "outputs": [
    {
     "data": {
      "text/html": [
       "<div>\n",
       "<table border=\"1\" class=\"dataframe\">\n",
       "  <thead>\n",
       "    <tr style=\"text-align: right;\">\n",
       "      <th></th>\n",
       "      <th>Unnamed: 0</th>\n",
       "      <th>Unnamed: 0.1</th>\n",
       "      <th>user_id</th>\n",
       "      <th>review_id</th>\n",
       "      <th>votes_cool</th>\n",
       "      <th>business_id</th>\n",
       "      <th>votes_funny</th>\n",
       "      <th>stars</th>\n",
       "      <th>date</th>\n",
       "      <th>votes_useful</th>\n",
       "      <th>...</th>\n",
       "      <th>service_great</th>\n",
       "      <th>staff_friendly</th>\n",
       "      <th>super_friendly</th>\n",
       "      <th>sweet_potato</th>\n",
       "      <th>tasted_like</th>\n",
       "      <th>time_vegas</th>\n",
       "      <th>try_place</th>\n",
       "      <th>ve_seen</th>\n",
       "      <th>ve_tried</th>\n",
       "      <th>wait_staff</th>\n",
       "    </tr>\n",
       "  </thead>\n",
       "  <tbody>\n",
       "    <tr>\n",
       "      <th>0</th>\n",
       "      <td>0</td>\n",
       "      <td>0</td>\n",
       "      <td>ZaLZYDB-HeFAZKMIjNyCyA</td>\n",
       "      <td>qlpTJ9sHAh24TdQIKb2ZFw</td>\n",
       "      <td>0</td>\n",
       "      <td>qsWxbgQwuomXvMseg23DGg</td>\n",
       "      <td>0</td>\n",
       "      <td>1</td>\n",
       "      <td>2014-06-08</td>\n",
       "      <td>0</td>\n",
       "      <td>...</td>\n",
       "      <td>0</td>\n",
       "      <td>0</td>\n",
       "      <td>0</td>\n",
       "      <td>0</td>\n",
       "      <td>0</td>\n",
       "      <td>0</td>\n",
       "      <td>0</td>\n",
       "      <td>0</td>\n",
       "      <td>0</td>\n",
       "      <td>0</td>\n",
       "    </tr>\n",
       "    <tr>\n",
       "      <th>1</th>\n",
       "      <td>1</td>\n",
       "      <td>1</td>\n",
       "      <td>TjsABzuLx7k4sQG_L3txgg</td>\n",
       "      <td>eyEWPJaU2RwIareTyt8I-w</td>\n",
       "      <td>0</td>\n",
       "      <td>FKHv7FkblONv9qqBndJUrg</td>\n",
       "      <td>1</td>\n",
       "      <td>1</td>\n",
       "      <td>2013-03-29</td>\n",
       "      <td>0</td>\n",
       "      <td>...</td>\n",
       "      <td>0</td>\n",
       "      <td>0</td>\n",
       "      <td>0</td>\n",
       "      <td>0</td>\n",
       "      <td>0</td>\n",
       "      <td>0</td>\n",
       "      <td>0</td>\n",
       "      <td>0</td>\n",
       "      <td>0</td>\n",
       "      <td>0</td>\n",
       "    </tr>\n",
       "    <tr>\n",
       "      <th>2</th>\n",
       "      <td>2</td>\n",
       "      <td>2</td>\n",
       "      <td>Ofxlhi_HKp7myFDpwg9aIA</td>\n",
       "      <td>YMMWSqFhGT6IbWfcOmbTuw</td>\n",
       "      <td>0</td>\n",
       "      <td>K9fIADfO_zKFPFm75A1Hxw</td>\n",
       "      <td>0</td>\n",
       "      <td>1</td>\n",
       "      <td>2009-04-22</td>\n",
       "      <td>0</td>\n",
       "      <td>...</td>\n",
       "      <td>0</td>\n",
       "      <td>0</td>\n",
       "      <td>0</td>\n",
       "      <td>0</td>\n",
       "      <td>0</td>\n",
       "      <td>0</td>\n",
       "      <td>0</td>\n",
       "      <td>0</td>\n",
       "      <td>0</td>\n",
       "      <td>0</td>\n",
       "    </tr>\n",
       "    <tr>\n",
       "      <th>3</th>\n",
       "      <td>3</td>\n",
       "      <td>3</td>\n",
       "      <td>-Rwn_JlLqNEhQIaiA8gFlw</td>\n",
       "      <td>9Efbx9dLzU0Lb3123_lErw</td>\n",
       "      <td>0</td>\n",
       "      <td>UxvOXcoCRFRAVhRB0D9imw</td>\n",
       "      <td>0</td>\n",
       "      <td>1</td>\n",
       "      <td>2014-03-24</td>\n",
       "      <td>0</td>\n",
       "      <td>...</td>\n",
       "      <td>0</td>\n",
       "      <td>0</td>\n",
       "      <td>0</td>\n",
       "      <td>0</td>\n",
       "      <td>0</td>\n",
       "      <td>0</td>\n",
       "      <td>0</td>\n",
       "      <td>0</td>\n",
       "      <td>0</td>\n",
       "      <td>0</td>\n",
       "    </tr>\n",
       "    <tr>\n",
       "      <th>4</th>\n",
       "      <td>4</td>\n",
       "      <td>4</td>\n",
       "      <td>ajzzOmblivZzKJ6nLmtdjA</td>\n",
       "      <td>dOvVn6FJBTkcSPYuhtL5Ug</td>\n",
       "      <td>0</td>\n",
       "      <td>-xLwGUmmyKgsTtFOOXzjeg</td>\n",
       "      <td>0</td>\n",
       "      <td>1</td>\n",
       "      <td>2015-09-12</td>\n",
       "      <td>0</td>\n",
       "      <td>...</td>\n",
       "      <td>0</td>\n",
       "      <td>0</td>\n",
       "      <td>0</td>\n",
       "      <td>0</td>\n",
       "      <td>0</td>\n",
       "      <td>0</td>\n",
       "      <td>0</td>\n",
       "      <td>0</td>\n",
       "      <td>0</td>\n",
       "      <td>0</td>\n",
       "    </tr>\n",
       "  </tbody>\n",
       "</table>\n",
       "<p>5 rows × 110 columns</p>\n",
       "</div>"
      ],
      "text/plain": [
       "   Unnamed: 0  Unnamed: 0.1                 user_id               review_id  \\\n",
       "0           0             0  ZaLZYDB-HeFAZKMIjNyCyA  qlpTJ9sHAh24TdQIKb2ZFw   \n",
       "1           1             1  TjsABzuLx7k4sQG_L3txgg  eyEWPJaU2RwIareTyt8I-w   \n",
       "2           2             2  Ofxlhi_HKp7myFDpwg9aIA  YMMWSqFhGT6IbWfcOmbTuw   \n",
       "3           3             3  -Rwn_JlLqNEhQIaiA8gFlw  9Efbx9dLzU0Lb3123_lErw   \n",
       "4           4             4  ajzzOmblivZzKJ6nLmtdjA  dOvVn6FJBTkcSPYuhtL5Ug   \n",
       "\n",
       "   votes_cool             business_id  votes_funny  stars        date  \\\n",
       "0           0  qsWxbgQwuomXvMseg23DGg            0      1  2014-06-08   \n",
       "1           0  FKHv7FkblONv9qqBndJUrg            1      1  2013-03-29   \n",
       "2           0  K9fIADfO_zKFPFm75A1Hxw            0      1  2009-04-22   \n",
       "3           0  UxvOXcoCRFRAVhRB0D9imw            0      1  2014-03-24   \n",
       "4           0  -xLwGUmmyKgsTtFOOXzjeg            0      1  2015-09-12   \n",
       "\n",
       "   votes_useful     ...      service_great  staff_friendly  super_friendly  \\\n",
       "0             0     ...                  0               0               0   \n",
       "1             0     ...                  0               0               0   \n",
       "2             0     ...                  0               0               0   \n",
       "3             0     ...                  0               0               0   \n",
       "4             0     ...                  0               0               0   \n",
       "\n",
       "   sweet_potato  tasted_like  time_vegas  try_place  ve_seen  ve_tried  \\\n",
       "0             0            0           0          0        0         0   \n",
       "1             0            0           0          0        0         0   \n",
       "2             0            0           0          0        0         0   \n",
       "3             0            0           0          0        0         0   \n",
       "4             0            0           0          0        0         0   \n",
       "\n",
       "   wait_staff  \n",
       "0           0  \n",
       "1           0  \n",
       "2           0  \n",
       "3           0  \n",
       "4           0  \n",
       "\n",
       "[5 rows x 110 columns]"
      ]
     },
     "execution_count": 119,
     "metadata": {},
     "output_type": "execute_result"
    }
   ],
   "source": [
    "reviews = pd.read_csv(\"../../project-04/reviews_changed.csv\")\n",
    "reviews.head()"
   ]
  },
  {
   "cell_type": "code",
   "execution_count": 120,
   "metadata": {
    "collapsed": false
   },
   "outputs": [],
   "source": [
    "#removing the columns containing the id's and the date since we wont be using these.\n",
    "\n",
    "cols = [col for col in reviews.columns if col not in ['business_id','review_id','date', 'Unnamed: 0.1', 'Unnamed: 0']]\n",
    "reviews = reviews[cols]\n",
    "\n",
    "# assigning the review count to get the total number of counts for the nexrt step:\n",
    "reviews[\"Reviews\"] = 1\n",
    "\n",
    "#reviews grouped by the user_id\n",
    "review_gb = reviews.groupby('user_id').sum().reset_index()"
   ]
  },
  {
   "cell_type": "code",
   "execution_count": 121,
   "metadata": {
    "collapsed": false
   },
   "outputs": [
    {
     "data": {
      "text/html": [
       "<div>\n",
       "<table border=\"1\" class=\"dataframe\">\n",
       "  <thead>\n",
       "    <tr style=\"text-align: right;\">\n",
       "      <th></th>\n",
       "      <th>user_id</th>\n",
       "      <th>votes_cool</th>\n",
       "      <th>votes_funny</th>\n",
       "      <th>stars</th>\n",
       "      <th>votes_useful</th>\n",
       "      <th>minutes_10</th>\n",
       "      <th>minutes_15</th>\n",
       "      <th>minutes_20</th>\n",
       "      <th>minutes_30</th>\n",
       "      <th>bar_food</th>\n",
       "      <th>...</th>\n",
       "      <th>staff_friendly</th>\n",
       "      <th>super_friendly</th>\n",
       "      <th>sweet_potato</th>\n",
       "      <th>tasted_like</th>\n",
       "      <th>time_vegas</th>\n",
       "      <th>try_place</th>\n",
       "      <th>ve_seen</th>\n",
       "      <th>ve_tried</th>\n",
       "      <th>wait_staff</th>\n",
       "      <th>Reviews</th>\n",
       "    </tr>\n",
       "  </thead>\n",
       "  <tbody>\n",
       "    <tr>\n",
       "      <th>0</th>\n",
       "      <td>-2HLYl4u61vJ2rTcrZ6YDA</td>\n",
       "      <td>0</td>\n",
       "      <td>0</td>\n",
       "      <td>3</td>\n",
       "      <td>0</td>\n",
       "      <td>0</td>\n",
       "      <td>0</td>\n",
       "      <td>0</td>\n",
       "      <td>0</td>\n",
       "      <td>0</td>\n",
       "      <td>...</td>\n",
       "      <td>0</td>\n",
       "      <td>0</td>\n",
       "      <td>0</td>\n",
       "      <td>0</td>\n",
       "      <td>0</td>\n",
       "      <td>0</td>\n",
       "      <td>0</td>\n",
       "      <td>0</td>\n",
       "      <td>0</td>\n",
       "      <td>1</td>\n",
       "    </tr>\n",
       "    <tr>\n",
       "      <th>1</th>\n",
       "      <td>-2VqtJTmSoGFQWFIuJVZzg</td>\n",
       "      <td>0</td>\n",
       "      <td>0</td>\n",
       "      <td>3</td>\n",
       "      <td>0</td>\n",
       "      <td>0</td>\n",
       "      <td>0</td>\n",
       "      <td>0</td>\n",
       "      <td>0</td>\n",
       "      <td>0</td>\n",
       "      <td>...</td>\n",
       "      <td>0</td>\n",
       "      <td>0</td>\n",
       "      <td>0</td>\n",
       "      <td>0</td>\n",
       "      <td>0</td>\n",
       "      <td>0</td>\n",
       "      <td>0</td>\n",
       "      <td>0</td>\n",
       "      <td>0</td>\n",
       "      <td>1</td>\n",
       "    </tr>\n",
       "    <tr>\n",
       "      <th>2</th>\n",
       "      <td>-45ytt4fp9gLbV1zmVeyGw</td>\n",
       "      <td>0</td>\n",
       "      <td>1</td>\n",
       "      <td>2</td>\n",
       "      <td>1</td>\n",
       "      <td>0</td>\n",
       "      <td>0</td>\n",
       "      <td>0</td>\n",
       "      <td>0</td>\n",
       "      <td>0</td>\n",
       "      <td>...</td>\n",
       "      <td>0</td>\n",
       "      <td>0</td>\n",
       "      <td>0</td>\n",
       "      <td>0</td>\n",
       "      <td>0</td>\n",
       "      <td>0</td>\n",
       "      <td>0</td>\n",
       "      <td>0</td>\n",
       "      <td>0</td>\n",
       "      <td>1</td>\n",
       "    </tr>\n",
       "    <tr>\n",
       "      <th>3</th>\n",
       "      <td>-4ld1qpaBNLocSBe85jWnw</td>\n",
       "      <td>0</td>\n",
       "      <td>1</td>\n",
       "      <td>4</td>\n",
       "      <td>1</td>\n",
       "      <td>0</td>\n",
       "      <td>0</td>\n",
       "      <td>0</td>\n",
       "      <td>0</td>\n",
       "      <td>0</td>\n",
       "      <td>...</td>\n",
       "      <td>0</td>\n",
       "      <td>0</td>\n",
       "      <td>0</td>\n",
       "      <td>0</td>\n",
       "      <td>0</td>\n",
       "      <td>0</td>\n",
       "      <td>0</td>\n",
       "      <td>0</td>\n",
       "      <td>0</td>\n",
       "      <td>2</td>\n",
       "    </tr>\n",
       "    <tr>\n",
       "      <th>4</th>\n",
       "      <td>-9NsC_ZjnmJr0KvoGAtKMA</td>\n",
       "      <td>0</td>\n",
       "      <td>0</td>\n",
       "      <td>2</td>\n",
       "      <td>0</td>\n",
       "      <td>0</td>\n",
       "      <td>0</td>\n",
       "      <td>0</td>\n",
       "      <td>0</td>\n",
       "      <td>0</td>\n",
       "      <td>...</td>\n",
       "      <td>0</td>\n",
       "      <td>0</td>\n",
       "      <td>0</td>\n",
       "      <td>0</td>\n",
       "      <td>0</td>\n",
       "      <td>0</td>\n",
       "      <td>0</td>\n",
       "      <td>0</td>\n",
       "      <td>0</td>\n",
       "      <td>1</td>\n",
       "    </tr>\n",
       "  </tbody>\n",
       "</table>\n",
       "<p>5 rows × 106 columns</p>\n",
       "</div>"
      ],
      "text/plain": [
       "                  user_id  votes_cool  votes_funny  stars  votes_useful  \\\n",
       "0  -2HLYl4u61vJ2rTcrZ6YDA           0            0      3             0   \n",
       "1  -2VqtJTmSoGFQWFIuJVZzg           0            0      3             0   \n",
       "2  -45ytt4fp9gLbV1zmVeyGw           0            1      2             1   \n",
       "3  -4ld1qpaBNLocSBe85jWnw           0            1      4             1   \n",
       "4  -9NsC_ZjnmJr0KvoGAtKMA           0            0      2             0   \n",
       "\n",
       "   minutes_10  minutes_15  minutes_20  minutes_30  bar_food   ...     \\\n",
       "0           0           0           0           0         0   ...      \n",
       "1           0           0           0           0         0   ...      \n",
       "2           0           0           0           0         0   ...      \n",
       "3           0           0           0           0         0   ...      \n",
       "4           0           0           0           0         0   ...      \n",
       "\n",
       "   staff_friendly  super_friendly  sweet_potato  tasted_like  time_vegas  \\\n",
       "0               0               0             0            0           0   \n",
       "1               0               0             0            0           0   \n",
       "2               0               0             0            0           0   \n",
       "3               0               0             0            0           0   \n",
       "4               0               0             0            0           0   \n",
       "\n",
       "   try_place  ve_seen  ve_tried  wait_staff  Reviews  \n",
       "0          0        0         0           0        1  \n",
       "1          0        0         0           0        1  \n",
       "2          0        0         0           0        1  \n",
       "3          0        0         0           0        2  \n",
       "4          0        0         0           0        1  \n",
       "\n",
       "[5 rows x 106 columns]"
      ]
     },
     "execution_count": 121,
     "metadata": {},
     "output_type": "execute_result"
    }
   ],
   "source": [
    "review_gb.head()"
   ]
  },
  {
   "cell_type": "code",
   "execution_count": 122,
   "metadata": {
    "collapsed": false,
    "scrolled": true
   },
   "outputs": [
    {
     "data": {
      "text/html": [
       "<div>\n",
       "<table border=\"1\" class=\"dataframe\">\n",
       "  <thead>\n",
       "    <tr style=\"text-align: right;\">\n",
       "      <th></th>\n",
       "      <th>Unnamed: 0</th>\n",
       "      <th>yelping_since</th>\n",
       "      <th>compliments_plain</th>\n",
       "      <th>review_count</th>\n",
       "      <th>compliments_cute</th>\n",
       "      <th>compliments_writer</th>\n",
       "      <th>fans</th>\n",
       "      <th>compliments_note</th>\n",
       "      <th>compliments_hot</th>\n",
       "      <th>compliments_cool</th>\n",
       "      <th>...</th>\n",
       "      <th>compliments_more</th>\n",
       "      <th>elite</th>\n",
       "      <th>name</th>\n",
       "      <th>user_id</th>\n",
       "      <th>votes_cool</th>\n",
       "      <th>compliments_list</th>\n",
       "      <th>votes_funny</th>\n",
       "      <th>compliments_photos</th>\n",
       "      <th>compliments_funny</th>\n",
       "      <th>votes_useful</th>\n",
       "    </tr>\n",
       "  </thead>\n",
       "  <tbody>\n",
       "    <tr>\n",
       "      <th>0</th>\n",
       "      <td>0</td>\n",
       "      <td>2015-01</td>\n",
       "      <td>NaN</td>\n",
       "      <td>1</td>\n",
       "      <td>NaN</td>\n",
       "      <td>NaN</td>\n",
       "      <td>0</td>\n",
       "      <td>NaN</td>\n",
       "      <td>NaN</td>\n",
       "      <td>NaN</td>\n",
       "      <td>...</td>\n",
       "      <td>NaN</td>\n",
       "      <td>[]</td>\n",
       "      <td>Scott</td>\n",
       "      <td>dMeSxE7S6Yxhz3cBgd6Sjw</td>\n",
       "      <td>0</td>\n",
       "      <td>NaN</td>\n",
       "      <td>0</td>\n",
       "      <td>NaN</td>\n",
       "      <td>NaN</td>\n",
       "      <td>0</td>\n",
       "    </tr>\n",
       "    <tr>\n",
       "      <th>1</th>\n",
       "      <td>1</td>\n",
       "      <td>2015-01</td>\n",
       "      <td>NaN</td>\n",
       "      <td>1</td>\n",
       "      <td>NaN</td>\n",
       "      <td>NaN</td>\n",
       "      <td>0</td>\n",
       "      <td>NaN</td>\n",
       "      <td>NaN</td>\n",
       "      <td>NaN</td>\n",
       "      <td>...</td>\n",
       "      <td>NaN</td>\n",
       "      <td>[]</td>\n",
       "      <td>Diego</td>\n",
       "      <td>c-e0BxGy3eNtKzKDrrHyGw</td>\n",
       "      <td>0</td>\n",
       "      <td>NaN</td>\n",
       "      <td>0</td>\n",
       "      <td>NaN</td>\n",
       "      <td>NaN</td>\n",
       "      <td>0</td>\n",
       "    </tr>\n",
       "    <tr>\n",
       "      <th>2</th>\n",
       "      <td>2</td>\n",
       "      <td>2015-01</td>\n",
       "      <td>NaN</td>\n",
       "      <td>2</td>\n",
       "      <td>NaN</td>\n",
       "      <td>NaN</td>\n",
       "      <td>0</td>\n",
       "      <td>NaN</td>\n",
       "      <td>NaN</td>\n",
       "      <td>NaN</td>\n",
       "      <td>...</td>\n",
       "      <td>NaN</td>\n",
       "      <td>[]</td>\n",
       "      <td>Katie</td>\n",
       "      <td>tO-IKvmHn9kGobTcVweTeA</td>\n",
       "      <td>0</td>\n",
       "      <td>NaN</td>\n",
       "      <td>0</td>\n",
       "      <td>NaN</td>\n",
       "      <td>NaN</td>\n",
       "      <td>0</td>\n",
       "    </tr>\n",
       "    <tr>\n",
       "      <th>3</th>\n",
       "      <td>3</td>\n",
       "      <td>2015-01</td>\n",
       "      <td>NaN</td>\n",
       "      <td>9</td>\n",
       "      <td>NaN</td>\n",
       "      <td>NaN</td>\n",
       "      <td>0</td>\n",
       "      <td>NaN</td>\n",
       "      <td>NaN</td>\n",
       "      <td>NaN</td>\n",
       "      <td>...</td>\n",
       "      <td>NaN</td>\n",
       "      <td>[]</td>\n",
       "      <td>Ross</td>\n",
       "      <td>soPELsow5JAqNSYCUmntJg</td>\n",
       "      <td>2</td>\n",
       "      <td>NaN</td>\n",
       "      <td>1</td>\n",
       "      <td>NaN</td>\n",
       "      <td>NaN</td>\n",
       "      <td>0</td>\n",
       "    </tr>\n",
       "    <tr>\n",
       "      <th>4</th>\n",
       "      <td>4</td>\n",
       "      <td>2015-01</td>\n",
       "      <td>NaN</td>\n",
       "      <td>2</td>\n",
       "      <td>NaN</td>\n",
       "      <td>NaN</td>\n",
       "      <td>0</td>\n",
       "      <td>NaN</td>\n",
       "      <td>NaN</td>\n",
       "      <td>NaN</td>\n",
       "      <td>...</td>\n",
       "      <td>NaN</td>\n",
       "      <td>[]</td>\n",
       "      <td>Pam</td>\n",
       "      <td>RR6dZa6dkrcgjKvEnI-Myw</td>\n",
       "      <td>0</td>\n",
       "      <td>NaN</td>\n",
       "      <td>0</td>\n",
       "      <td>NaN</td>\n",
       "      <td>NaN</td>\n",
       "      <td>0</td>\n",
       "    </tr>\n",
       "  </tbody>\n",
       "</table>\n",
       "<p>5 rows × 22 columns</p>\n",
       "</div>"
      ],
      "text/plain": [
       "   Unnamed: 0 yelping_since  compliments_plain  review_count  \\\n",
       "0           0       2015-01                NaN             1   \n",
       "1           1       2015-01                NaN             1   \n",
       "2           2       2015-01                NaN             2   \n",
       "3           3       2015-01                NaN             9   \n",
       "4           4       2015-01                NaN             2   \n",
       "\n",
       "   compliments_cute  compliments_writer  fans  compliments_note  \\\n",
       "0               NaN                 NaN     0               NaN   \n",
       "1               NaN                 NaN     0               NaN   \n",
       "2               NaN                 NaN     0               NaN   \n",
       "3               NaN                 NaN     0               NaN   \n",
       "4               NaN                 NaN     0               NaN   \n",
       "\n",
       "   compliments_hot  compliments_cool      ...       compliments_more  elite  \\\n",
       "0              NaN               NaN      ...                    NaN     []   \n",
       "1              NaN               NaN      ...                    NaN     []   \n",
       "2              NaN               NaN      ...                    NaN     []   \n",
       "3              NaN               NaN      ...                    NaN     []   \n",
       "4              NaN               NaN      ...                    NaN     []   \n",
       "\n",
       "    name                 user_id votes_cool compliments_list  votes_funny  \\\n",
       "0  Scott  dMeSxE7S6Yxhz3cBgd6Sjw          0              NaN            0   \n",
       "1  Diego  c-e0BxGy3eNtKzKDrrHyGw          0              NaN            0   \n",
       "2  Katie  tO-IKvmHn9kGobTcVweTeA          0              NaN            0   \n",
       "3   Ross  soPELsow5JAqNSYCUmntJg          2              NaN            1   \n",
       "4    Pam  RR6dZa6dkrcgjKvEnI-Myw          0              NaN            0   \n",
       "\n",
       "   compliments_photos  compliments_funny  votes_useful  \n",
       "0                 NaN                NaN             0  \n",
       "1                 NaN                NaN             0  \n",
       "2                 NaN                NaN             0  \n",
       "3                 NaN                NaN             0  \n",
       "4                 NaN                NaN             0  \n",
       "\n",
       "[5 rows x 22 columns]"
      ]
     },
     "execution_count": 122,
     "metadata": {},
     "output_type": "execute_result"
    }
   ],
   "source": [
    "users.head()"
   ]
  },
  {
   "cell_type": "code",
   "execution_count": 123,
   "metadata": {
    "collapsed": false,
    "scrolled": true
   },
   "outputs": [
    {
     "data": {
      "text/plain": [
       "<bound method Series.unique of 0                                                 []\n",
       "1                                                 []\n",
       "2                                                 []\n",
       "3                                                 []\n",
       "4                                                 []\n",
       "5                                                 []\n",
       "6                                                 []\n",
       "7                                                 []\n",
       "8                                                 []\n",
       "9                                                 []\n",
       "10                                                []\n",
       "11                                                []\n",
       "12                                                []\n",
       "13                                                []\n",
       "14                                                []\n",
       "15                                                []\n",
       "16                                                []\n",
       "17                                                []\n",
       "18                                                []\n",
       "19                                                []\n",
       "20                                                []\n",
       "21                                                []\n",
       "22                                                []\n",
       "23                                                []\n",
       "24                                                []\n",
       "25                                                []\n",
       "26                                                []\n",
       "27                                                []\n",
       "28                                                []\n",
       "29                                                []\n",
       "                             ...                    \n",
       "144176                                            []\n",
       "144177                                            []\n",
       "144178                                            []\n",
       "144179                            [2013, 2014, 2015]\n",
       "144180                                            []\n",
       "144181                                            []\n",
       "144182                                            []\n",
       "144183                                            []\n",
       "144184                                            []\n",
       "144185                                            []\n",
       "144186                                            []\n",
       "144187                                            []\n",
       "144188                                            []\n",
       "144189                                        [2009]\n",
       "144190                                            []\n",
       "144191                                  [2010, 2011]\n",
       "144192                            [2009, 2010, 2011]\n",
       "144193                                            []\n",
       "144194                [2011, 2012, 2013, 2014, 2015]\n",
       "144195                                            []\n",
       "144196    [2009, 2010, 2011, 2012, 2013, 2014, 2015]\n",
       "144197                                            []\n",
       "144198                      [2012, 2013, 2014, 2015]\n",
       "144199                [2009, 2010, 2011, 2012, 2013]\n",
       "144200          [2010, 2011, 2012, 2013, 2014, 2015]\n",
       "144201                [2010, 2011, 2012, 2013, 2015]\n",
       "144202                            [2013, 2014, 2015]\n",
       "144203                            [2009, 2010, 2011]\n",
       "144204          [2009, 2010, 2012, 2013, 2014, 2015]\n",
       "144205                                  [2010, 2011]\n",
       "Name: elite, dtype: object>"
      ]
     },
     "execution_count": 123,
     "metadata": {},
     "output_type": "execute_result"
    }
   ],
   "source": [
    "users.elite.unique"
   ]
  },
  {
   "cell_type": "code",
   "execution_count": 124,
   "metadata": {
    "collapsed": false
   },
   "outputs": [
    {
     "data": {
      "text/plain": [
       "False    127583\n",
       "True      16623\n",
       "Name: target, dtype: int64"
      ]
     },
     "execution_count": 124,
     "metadata": {},
     "output_type": "execute_result"
    }
   ],
   "source": [
    "#checking to see if the users were elite at some given time in the previous year using the users data:\n",
    "users['target'] = users['elite'].map(lambda x: False if x == '[]' else True)\n",
    "users['target'].value_counts()"
   ]
  },
  {
   "cell_type": "code",
   "execution_count": 125,
   "metadata": {
    "collapsed": true
   },
   "outputs": [],
   "source": [
    "users.fillna(value=0.,inplace=True)"
   ]
  },
  {
   "cell_type": "code",
   "execution_count": 126,
   "metadata": {
    "collapsed": false
   },
   "outputs": [],
   "source": [
    "users_reviews = users.merge(review_gb,how='inner',left_on='user_id',right_on='user_id')"
   ]
  },
  {
   "cell_type": "code",
   "execution_count": 127,
   "metadata": {
    "collapsed": false,
    "scrolled": true
   },
   "outputs": [
    {
     "data": {
      "text/plain": [
       "False    2131\n",
       "True      730\n",
       "Name: target, dtype: int64"
      ]
     },
     "execution_count": 127,
     "metadata": {},
     "output_type": "execute_result"
    }
   ],
   "source": [
    "users_reviews['target'].value_counts()"
   ]
  },
  {
   "cell_type": "code",
   "execution_count": 128,
   "metadata": {
    "collapsed": false
   },
   "outputs": [
    {
     "data": {
      "text/html": [
       "<div>\n",
       "<table border=\"1\" class=\"dataframe\">\n",
       "  <thead>\n",
       "    <tr style=\"text-align: right;\">\n",
       "      <th></th>\n",
       "      <th>Unnamed: 0</th>\n",
       "      <th>yelping_since</th>\n",
       "      <th>compliments_plain</th>\n",
       "      <th>review_count</th>\n",
       "      <th>compliments_cute</th>\n",
       "      <th>compliments_writer</th>\n",
       "      <th>fans</th>\n",
       "      <th>compliments_note</th>\n",
       "      <th>compliments_hot</th>\n",
       "      <th>compliments_cool</th>\n",
       "      <th>...</th>\n",
       "      <th>staff_friendly</th>\n",
       "      <th>super_friendly</th>\n",
       "      <th>sweet_potato</th>\n",
       "      <th>tasted_like</th>\n",
       "      <th>time_vegas</th>\n",
       "      <th>try_place</th>\n",
       "      <th>ve_seen</th>\n",
       "      <th>ve_tried</th>\n",
       "      <th>wait_staff</th>\n",
       "      <th>Reviews</th>\n",
       "    </tr>\n",
       "  </thead>\n",
       "  <tbody>\n",
       "    <tr>\n",
       "      <th>0</th>\n",
       "      <td>51</td>\n",
       "      <td>2015-01</td>\n",
       "      <td>0.0</td>\n",
       "      <td>5</td>\n",
       "      <td>0.0</td>\n",
       "      <td>0.0</td>\n",
       "      <td>0</td>\n",
       "      <td>0.0</td>\n",
       "      <td>0.0</td>\n",
       "      <td>0.0</td>\n",
       "      <td>...</td>\n",
       "      <td>0</td>\n",
       "      <td>0</td>\n",
       "      <td>0</td>\n",
       "      <td>0</td>\n",
       "      <td>0</td>\n",
       "      <td>0</td>\n",
       "      <td>0</td>\n",
       "      <td>0</td>\n",
       "      <td>0</td>\n",
       "      <td>1</td>\n",
       "    </tr>\n",
       "    <tr>\n",
       "      <th>1</th>\n",
       "      <td>61</td>\n",
       "      <td>2015-01</td>\n",
       "      <td>0.0</td>\n",
       "      <td>2</td>\n",
       "      <td>0.0</td>\n",
       "      <td>0.0</td>\n",
       "      <td>0</td>\n",
       "      <td>0.0</td>\n",
       "      <td>0.0</td>\n",
       "      <td>0.0</td>\n",
       "      <td>...</td>\n",
       "      <td>0</td>\n",
       "      <td>0</td>\n",
       "      <td>0</td>\n",
       "      <td>0</td>\n",
       "      <td>0</td>\n",
       "      <td>0</td>\n",
       "      <td>0</td>\n",
       "      <td>0</td>\n",
       "      <td>0</td>\n",
       "      <td>1</td>\n",
       "    </tr>\n",
       "    <tr>\n",
       "      <th>2</th>\n",
       "      <td>282</td>\n",
       "      <td>2015-01</td>\n",
       "      <td>0.0</td>\n",
       "      <td>3</td>\n",
       "      <td>0.0</td>\n",
       "      <td>0.0</td>\n",
       "      <td>0</td>\n",
       "      <td>0.0</td>\n",
       "      <td>0.0</td>\n",
       "      <td>0.0</td>\n",
       "      <td>...</td>\n",
       "      <td>0</td>\n",
       "      <td>0</td>\n",
       "      <td>0</td>\n",
       "      <td>0</td>\n",
       "      <td>0</td>\n",
       "      <td>0</td>\n",
       "      <td>0</td>\n",
       "      <td>0</td>\n",
       "      <td>0</td>\n",
       "      <td>1</td>\n",
       "    </tr>\n",
       "    <tr>\n",
       "      <th>3</th>\n",
       "      <td>290</td>\n",
       "      <td>2015-01</td>\n",
       "      <td>0.0</td>\n",
       "      <td>10</td>\n",
       "      <td>0.0</td>\n",
       "      <td>0.0</td>\n",
       "      <td>0</td>\n",
       "      <td>0.0</td>\n",
       "      <td>0.0</td>\n",
       "      <td>0.0</td>\n",
       "      <td>...</td>\n",
       "      <td>0</td>\n",
       "      <td>0</td>\n",
       "      <td>0</td>\n",
       "      <td>0</td>\n",
       "      <td>0</td>\n",
       "      <td>0</td>\n",
       "      <td>0</td>\n",
       "      <td>0</td>\n",
       "      <td>0</td>\n",
       "      <td>1</td>\n",
       "    </tr>\n",
       "    <tr>\n",
       "      <th>4</th>\n",
       "      <td>336</td>\n",
       "      <td>2015-01</td>\n",
       "      <td>0.0</td>\n",
       "      <td>5</td>\n",
       "      <td>0.0</td>\n",
       "      <td>0.0</td>\n",
       "      <td>1</td>\n",
       "      <td>0.0</td>\n",
       "      <td>0.0</td>\n",
       "      <td>0.0</td>\n",
       "      <td>...</td>\n",
       "      <td>1</td>\n",
       "      <td>0</td>\n",
       "      <td>0</td>\n",
       "      <td>0</td>\n",
       "      <td>0</td>\n",
       "      <td>0</td>\n",
       "      <td>0</td>\n",
       "      <td>0</td>\n",
       "      <td>0</td>\n",
       "      <td>1</td>\n",
       "    </tr>\n",
       "  </tbody>\n",
       "</table>\n",
       "<p>5 rows × 128 columns</p>\n",
       "</div>"
      ],
      "text/plain": [
       "   Unnamed: 0 yelping_since  compliments_plain  review_count  \\\n",
       "0          51       2015-01                0.0             5   \n",
       "1          61       2015-01                0.0             2   \n",
       "2         282       2015-01                0.0             3   \n",
       "3         290       2015-01                0.0            10   \n",
       "4         336       2015-01                0.0             5   \n",
       "\n",
       "   compliments_cute  compliments_writer  fans  compliments_note  \\\n",
       "0               0.0                 0.0     0               0.0   \n",
       "1               0.0                 0.0     0               0.0   \n",
       "2               0.0                 0.0     0               0.0   \n",
       "3               0.0                 0.0     0               0.0   \n",
       "4               0.0                 0.0     1               0.0   \n",
       "\n",
       "   compliments_hot  compliments_cool   ...     staff_friendly  super_friendly  \\\n",
       "0              0.0               0.0   ...                  0               0   \n",
       "1              0.0               0.0   ...                  0               0   \n",
       "2              0.0               0.0   ...                  0               0   \n",
       "3              0.0               0.0   ...                  0               0   \n",
       "4              0.0               0.0   ...                  1               0   \n",
       "\n",
       "   sweet_potato tasted_like time_vegas try_place  ve_seen  ve_tried  \\\n",
       "0             0           0          0         0        0         0   \n",
       "1             0           0          0         0        0         0   \n",
       "2             0           0          0         0        0         0   \n",
       "3             0           0          0         0        0         0   \n",
       "4             0           0          0         0        0         0   \n",
       "\n",
       "   wait_staff  Reviews  \n",
       "0           0        1  \n",
       "1           0        1  \n",
       "2           0        1  \n",
       "3           0        1  \n",
       "4           0        1  \n",
       "\n",
       "[5 rows x 128 columns]"
      ]
     },
     "execution_count": 128,
     "metadata": {},
     "output_type": "execute_result"
    }
   ],
   "source": [
    "users_reviews.head()"
   ]
  },
  {
   "cell_type": "code",
   "execution_count": 129,
   "metadata": {
    "collapsed": false
   },
   "outputs": [
    {
     "name": "stdout",
     "output_type": "stream",
     "text": [
      "((2861, 123), (2861,))\n"
     ]
    }
   ],
   "source": [
    "y = users_reviews['target'] #Target\n",
    "\n",
    "#Predictor\n",
    "X = users_reviews[[col for col in users_reviews.columns if col not in ['elite','name','user_id','target','yelping_since']]]\n",
    "\n",
    "scale = StandardScaler()\n",
    "Xn = scale.fit_transform(X)\n",
    "\n",
    "print(Xn.shape,y.shape)"
   ]
  },
  {
   "cell_type": "code",
   "execution_count": 130,
   "metadata": {
    "collapsed": false
   },
   "outputs": [],
   "source": [
    "from sklearn.cross_validation import train_test_split\n",
    "#Train/Test split by 70:30\n",
    "X_train, X_test, y_train, y_test = train_test_split(X, y, test_size=0.3)"
   ]
  },
  {
   "cell_type": "code",
   "execution_count": 75,
   "metadata": {
    "collapsed": false
   },
   "outputs": [
    {
     "name": "stdout",
     "output_type": "stream",
     "text": [
      "Fitting 10 folds for each of 10 candidates, totalling 100 fits\n"
     ]
    },
    {
     "name": "stderr",
     "output_type": "stream",
     "text": [
      "[Parallel(n_jobs=1)]: Done  49 tasks       | elapsed:  1.3min\n",
      "[Parallel(n_jobs=1)]: Done 100 out of 100 | elapsed:  2.6min finished\n"
     ]
    },
    {
     "data": {
      "text/plain": [
       "GridSearchCV(cv=10, error_score='raise',\n",
       "       estimator=LogisticRegression(C=1.0, class_weight=None, dual=False, fit_intercept=True,\n",
       "          intercept_scaling=1, max_iter=100, multi_class='ovr', n_jobs=1,\n",
       "          penalty='l2', random_state=None, solver='liblinear', tol=0.0001,\n",
       "          verbose=0, warm_start=False),\n",
       "       fit_params={}, iid=True, n_jobs=1,\n",
       "       param_grid={'penalty': ['l1', 'l2'], 'C': array([ 1.,  2.,  3.,  4.,  5.]), 'solver': ['liblinear']},\n",
       "       pre_dispatch='2*n_jobs', refit=True, scoring=None, verbose=1)"
      ]
     },
     "execution_count": 75,
     "metadata": {},
     "output_type": "execute_result"
    }
   ],
   "source": [
    "# Setting the parameters to perform a grid search\n",
    "lr_params = {\n",
    "    'solver':['liblinear'],\n",
    "    'penalty':['l1','l2'],\n",
    "    'C':np.linspace(1, 5, 5)\n",
    "}\n",
    "\n",
    "noneliteusers_gs = GridSearchCV(LogisticRegression(), lr_params, cv=10, verbose=1)\n",
    "\n",
    "noneliteusers_gs.fit(X_train, y_train)"
   ]
  },
  {
   "cell_type": "code",
   "execution_count": 81,
   "metadata": {
    "collapsed": false
   },
   "outputs": [
    {
     "name": "stdout",
     "output_type": "stream",
     "text": [
      "Parameters and Score for Non-Elite Users\n",
      "{'penalty': 'l2', 'C': 5.0, 'solver': 'liblinear'}\n",
      "\n",
      "\n",
      "(0.91208791208791207, 0.74225774225774233)\n"
     ]
    }
   ],
   "source": [
    "results = noneliteusers_gs.best_estimator_\n",
    "\n",
    "print(\"Parameters and Score for Non-Elite Users\")\n",
    "print(noneliteusers_gs.best_params_)\n",
    "print \"\\n\"\n",
    "print (noneliteusers_gs.best_score_,np.abs(0.5 - np.mean(y_train)) + 0.5)\n"
   ]
  },
  {
   "cell_type": "code",
   "execution_count": 82,
   "metadata": {
    "collapsed": true
   },
   "outputs": [],
   "source": [
    "def plot_roc(mod, X, y, varname):\n",
    "    mod.fit(X, y)\n",
    "    y_pp = mod.predict_proba(X)[:, 1]\n",
    "    fpr_, tpr_, _ = roc_curve(y, y_pp)\n",
    "    auc_ = auc(fpr_, tpr_)\n",
    "    acc_ = np.abs(0.5 - np.mean(y)) + 0.5\n",
    "    \n",
    "    fig, axr = plt.subplots(figsize=(5,5))\n",
    "\n",
    "    axr.plot(fpr_, tpr_, label='ROC (area = %0.2f)' % auc_,\n",
    "             color='darkred', linewidth=4,\n",
    "             alpha=0.7)\n",
    "    axr.plot([0, 1], [0, 1], color='grey', ls='dashed',\n",
    "             alpha=0.9, linewidth=4, label='baseline accuracy = %0.2f' % acc_)\n",
    "\n",
    "    axr.set_xlim([-0.05, 1.05])\n",
    "    axr.set_ylim([0.0, 1.05])\n",
    "    axr.set_xlabel('false positive rate', fontsize=16)\n",
    "    axr.set_ylabel('true positive rate', fontsize=16)\n",
    "    axr.set_title(varname+' vs. not ROC curve\\n', fontsize=20)\n",
    "\n",
    "    axr.legend(loc=\"lower right\", fontsize=12)\n",
    "\n",
    "    plt.show()"
   ]
  },
  {
   "cell_type": "code",
   "execution_count": 83,
   "metadata": {
    "collapsed": false
   },
   "outputs": [
    {
     "data": {
      "image/png": "[encoded data removed]",
      "text/plain": [
       "<matplotlib.figure.Figure at 0x10412d2d0>"
      ]
     },
     "metadata": {},
     "output_type": "display_data"
    }
   ],
   "source": [
    "plot_roc(results, X_test, y_test, 'With Compliments')"
   ]
  },
  {
   "cell_type": "code",
   "execution_count": 133,
   "metadata": {
    "collapsed": false
   },
   "outputs": [],
   "source": [
    "y = users_reviews['target']\n",
    "# X without compliments\n",
    "X = users_reviews[[col for col in users_reviews.columns if col not in ['elite','name','user_id','target','yelping_since',\n",
    "                                                      'compliments_plain','review_count','compliments_cute',\n",
    "                                                       'compliments_writer','compliments_note','compliments_hot',\n",
    "                                                       'compliments_cool','compliments_profile','compliments_more',\n",
    "                                                       'votes_cool_x','compliments_list','votes_funny_x',\n",
    "                                                       'compliments_photos','compliments_funny','votes_useful_x',\n",
    "                                                       'votes_cool_y','votes_funny_y','votes_useful_y']]]"
   ]
  },
  {
   "cell_type": "code",
   "execution_count": 134,
   "metadata": {
    "collapsed": false
   },
   "outputs": [
    {
     "name": "stdout",
     "output_type": "stream",
     "text": [
      "Unnamed: 0\n",
      "fans\n",
      "average_stars\n",
      "stars\n",
      "minutes_10\n",
      "minutes_15\n",
      "minutes_20\n",
      "minutes_30\n",
      "bar_food\n",
      "beer_selection\n",
      "best_ve\n",
      "bloody_mary\n",
      "bottle_service\n",
      "chicken_waffles\n",
      "customer_service\n",
      "dance_floor\n",
      "decided_try\n",
      "definitely_come\n",
      "definitely_recommend\n",
      "didn_want\n",
      "don_know\n",
      "don_like\n",
      "don_think\n",
      "don_want\n",
      "eggs_benedict\n",
      "fast_food\n",
      "feel_like\n",
      "felt_like\n",
      "fish_chips\n",
      "food_amazing\n",
      "food_came\n",
      "food_delicious\n",
      "food_good\n",
      "food_great\n",
      "food_just\n",
      "food_service\n",
      "french_fries\n",
      "french_toast\n",
      "friday_night\n",
      "fried_chicken\n",
      "friendly_staff\n",
      "good_food\n",
      "good_place\n",
      "good_service\n",
      "good_thing\n",
      "good_time\n",
      "great_atmosphere\n",
      "great_experience\n",
      "great_food\n",
      "great_place\n",
      "great_service\n",
      "great_time\n",
      "happy_hour\n",
      "hash_browns\n",
      "highly_recommend\n",
      "hip_hop\n",
      "ice_cream\n",
      "just_like\n",
      "just_ok\n",
      "just_right\n",
      "las_vegas\n",
      "late_night\n",
      "like_place\n",
      "little_bit\n",
      "long_time\n",
      "looked_like\n",
      "looks_like\n",
      "love_place\n",
      "mac_cheese\n",
      "make_sure\n",
      "mashed_potatoes\n",
      "medium_rare\n",
      "minutes_later\n",
      "new_york\n",
      "onion_rings\n",
      "place_good\n",
      "place_great\n",
      "place_just\n",
      "potato_fries\n",
      "pretty_good\n",
      "quality_food\n",
      "really_enjoyed\n",
      "really_good\n",
      "really_like\n",
      "really_nice\n",
      "recommend_place\n",
      "red_velvet\n",
      "right_away\n",
      "saturday_night\n",
      "second_time\n",
      "service_excellent\n",
      "service_food\n",
      "service_friendly\n",
      "service_good\n",
      "service_great\n",
      "staff_friendly\n",
      "super_friendly\n",
      "sweet_potato\n",
      "tasted_like\n",
      "time_vegas\n",
      "try_place\n",
      "ve_seen\n",
      "ve_tried\n",
      "wait_staff\n",
      "Reviews\n"
     ]
    }
   ],
   "source": [
    "for i in X.columns:\n",
    "    print i"
   ]
  },
  {
   "cell_type": "code",
   "execution_count": 135,
   "metadata": {
    "collapsed": true
   },
   "outputs": [],
   "source": [
    "from sklearn.cross_validation import train_test_split\n",
    "#Train/Test split by 70:30\n",
    "X_train, X_test, y_train, y_test = train_test_split(X, y, test_size=0.3)"
   ]
  },
  {
   "cell_type": "code",
   "execution_count": 136,
   "metadata": {
    "collapsed": false
   },
   "outputs": [
    {
     "name": "stdout",
     "output_type": "stream",
     "text": [
      "((2861, 105), (2861,))\n"
     ]
    }
   ],
   "source": [
    "scale = StandardScaler()\n",
    "Xn = scale.fit_transform(X)\n",
    "\n",
    "print(Xn.shape,y.shape)"
   ]
  },
  {
   "cell_type": "code",
   "execution_count": 137,
   "metadata": {
    "collapsed": false
   },
   "outputs": [
    {
     "name": "stdout",
     "output_type": "stream",
     "text": [
      "Fitting 10 folds for each of 10 candidates, totalling 100 fits\n"
     ]
    },
    {
     "name": "stderr",
     "output_type": "stream",
     "text": [
      "[Parallel(n_jobs=1)]: Done  49 tasks       | elapsed:    0.9s\n",
      "[Parallel(n_jobs=1)]: Done 100 out of 100 | elapsed:    1.7s finished\n"
     ]
    },
    {
     "data": {
      "text/plain": [
       "GridSearchCV(cv=10, error_score='raise',\n",
       "       estimator=LogisticRegression(C=1.0, class_weight=None, dual=False, fit_intercept=True,\n",
       "          intercept_scaling=1, max_iter=100, multi_class='ovr', n_jobs=1,\n",
       "          penalty='l2', random_state=None, solver='liblinear', tol=0.0001,\n",
       "          verbose=0, warm_start=False),\n",
       "       fit_params={}, iid=True, n_jobs=1,\n",
       "       param_grid={'penalty': ['l1', 'l2'], 'C': array([ 1.,  2.,  3.,  4.,  5.]), 'solver': ['liblinear']},\n",
       "       pre_dispatch='2*n_jobs', refit=True, scoring=None, verbose=1)"
      ]
     },
     "execution_count": 137,
     "metadata": {},
     "output_type": "execute_result"
    }
   ],
   "source": [
    "lr_params = {\n",
    "    'solver':['liblinear'],\n",
    "    'penalty':['l1','l2'],\n",
    "    'C':np.linspace(1, 5, 5)\n",
    "}\n",
    "\n",
    "results = GridSearchCV(LogisticRegression(), lr_params, cv=10, verbose=1)\n",
    "\n",
    "results.fit(X_train, y_train)"
   ]
  },
  {
   "cell_type": "code",
   "execution_count": 138,
   "metadata": {
    "collapsed": true
   },
   "outputs": [],
   "source": [
    "from sklearn.metrics import roc_curve, roc_auc_score, auc\n",
    "\n",
    "def plot_roc(mod, X, y, varname):\n",
    "    mod.fit(X, y)\n",
    "    y_pp = mod.predict_proba(X)[:, 1]\n",
    "    fpr_, tpr_, _ = roc_curve(y, y_pp)\n",
    "    auc_ = auc(fpr_, tpr_)\n",
    "    acc_ = np.abs(0.5 - np.mean(y)) + 0.5\n",
    "    \n",
    "    fig, axr = plt.subplots(figsize=(5,5))\n",
    "\n",
    "    axr.plot(fpr_, tpr_, label='ROC (area = %0.2f)' % auc_,\n",
    "             color='darkred', linewidth=4,\n",
    "             alpha=0.7)\n",
    "    axr.plot([0, 1], [0, 1], color='grey', ls='dashed',\n",
    "             alpha=0.9, linewidth=4, label='baseline accuracy = %0.2f' % acc_)\n",
    "\n",
    "    axr.set_xlim([-0.05, 1.05])\n",
    "    axr.set_ylim([0.0, 1.05])\n",
    "    axr.set_xlabel('false positive rate', fontsize=16)\n",
    "    axr.set_ylabel('true positive rate', fontsize=16)\n",
    "    axr.set_title(varname+' vs. not ROC curve\\n', fontsize=20)\n",
    "\n",
    "    axr.legend(loc=\"lower right\", fontsize=12)\n",
    "\n",
    "    plt.show()"
   ]
  },
  {
   "cell_type": "code",
   "execution_count": 139,
   "metadata": {
    "collapsed": false
   },
   "outputs": [
    {
     "name": "stdout",
     "output_type": "stream",
     "text": [
      "Fitting 10 folds for each of 10 candidates, totalling 100 fits\n"
     ]
    },
    {
     "name": "stderr",
     "output_type": "stream",
     "text": [
      "[Parallel(n_jobs=1)]: Done  49 tasks       | elapsed:    0.5s\n",
      "[Parallel(n_jobs=1)]: Done 100 out of 100 | elapsed:    1.1s finished\n"
     ]
    },
    {
     "data": {
      "image/png": "[encoded data removed]",
      "text/plain": [
       "<matplotlib.figure.Figure at 0x1154a0ed0>"
      ]
     },
     "metadata": {},
     "output_type": "display_data"
    }
   ],
   "source": [
    "plot_roc(results, X_test, y_test, 'Without Compliments')"
   ]
  },
  {
   "cell_type": "markdown",
   "metadata": {},
   "source": [
    "<img src=\"http://imgur.com/GCAf1UX.png\" style=\"float: left; margin: 25px 15px 0px 0px; height: 25px\">\n",
    "\n",
    "## 5. Find something interesting on your own\n",
    "\n",
    "---\n",
    "\n",
    "You want to impress your superiors at Yelp by doing some investigation into the data on your own. You want to do classification, but you're not sure on what.\n",
    "\n",
    "1. Create a hypothesis or hypotheses about the data based on whatever you are interested in, as long as it is predicting a category of some kind (classification).\n",
    "2. Explore the data visually (ideally related to this hypothesis).\n",
    "3. Build one or more classification models to predict your target variable. **Your modeling should include gridsearching to find optimal model parameters.**\n",
    "4. Evaluate the performance of your model. Explain why your model may have chosen those specific parameters during the gridsearch process.\n",
    "5. Write up what the model tells you. Does it validate or invalidate your hypothesis? Write this up as if for a non-technical audience."
   ]
  },
  {
   "cell_type": "code",
   "execution_count": null,
   "metadata": {
    "collapsed": true
   },
   "outputs": [],
   "source": []
  },
  {
   "cell_type": "markdown",
   "metadata": {},
   "source": [
    "<img src=\"http://imgur.com/GCAf1UX.png\" style=\"float: left; margin: 25px 15px 0px 0px; height: 25px\">\n",
    "\n",
    "## 6. ROC and Precision-recall\n",
    "\n",
    "---\n",
    "\n",
    "Some categories have fewer overall businesses than others. Choose two categories of businesses to predict, one that makes your proportion of target classes as even as possible, and another that has very few businesses and thus makes the target varible imbalanced.\n",
    "\n",
    "1. Create two classification models predicting these categories. Optimize the models and choose variables as you see fit.\n",
    "- Make confusion matrices for your models. Describe the confusion matrices and explain what they tell you about your models' performance.\n",
    "- Make ROC curves for both models. What do the ROC curves describe and what do they tell you about your model?\n",
    "- Make Precision-Recall curves for the models. What do they describe? How do they compare to the ROC curves?\n",
    "- Explain when Precision-Recall may be preferable to ROC. Is that the case in either of your models?"
   ]
  },
  {
   "cell_type": "code",
   "execution_count": null,
   "metadata": {
    "collapsed": true
   },
   "outputs": [],
   "source": []
  }
 ],
 "metadata": {
  "anaconda-cloud": {},
  "kernelspec": {
   "display_name": "Python [conda env:dsi]",
   "language": "python",
   "name": "conda-env-dsi-py"
  },
  "language_info": {
   "codemirror_mode": {
    "name": "ipython",
    "version": 2
   },
   "file_extension": ".py",
   "mimetype": "text/x-python",
   "name": "python",
   "nbconvert_exporter": "python",
   "pygments_lexer": "ipython2",
   "version": "2.7.12"
  }
 },
 "nbformat": 4,
 "nbformat_minor": 0
}
